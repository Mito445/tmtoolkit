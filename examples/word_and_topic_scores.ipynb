{
 "cells": [
  {
   "cell_type": "markdown",
   "metadata": {},
   "source": [
    "# Using *distinctiveness*, *saliency* and *topic-word relevance* scores\n",
    "\n",
    "This uses a topic model generated from a **tiny subset** of the Reuters data included in the [lda package](http://pythonhosted.org/lda/).\n",
    "\n",
    "**Please note that this is a really tiny corpus in order to make this example more managable and faster to process. The results are not representative for the whole corpus though!** "
   ]
  },
  {
   "cell_type": "code",
   "execution_count": 1,
   "metadata": {},
   "outputs": [
    {
     "ename": "ModuleNotFoundError",
     "evalue": "No module named 'tmtoolkit'",
     "output_type": "error",
     "traceback": [
      "\u001b[0;31m---------------------------------------------------------------------------\u001b[0m",
      "\u001b[0;31mModuleNotFoundError\u001b[0m                       Traceback (most recent call last)",
      "\u001b[0;32m<ipython-input-1-7e2c298a005b>\u001b[0m in \u001b[0;36m<module>\u001b[0;34m\u001b[0m\n\u001b[1;32m      1\u001b[0m \u001b[0;31m# load complete model\u001b[0m\u001b[0;34m\u001b[0m\u001b[0;34m\u001b[0m\u001b[0;34m\u001b[0m\u001b[0m\n\u001b[1;32m      2\u001b[0m \u001b[0;32mimport\u001b[0m \u001b[0mnumpy\u001b[0m \u001b[0;32mas\u001b[0m \u001b[0mnp\u001b[0m\u001b[0;34m\u001b[0m\u001b[0;34m\u001b[0m\u001b[0m\n\u001b[0;32m----> 3\u001b[0;31m \u001b[0;32mfrom\u001b[0m \u001b[0mtmtoolkit\u001b[0m\u001b[0;34m.\u001b[0m\u001b[0mtopicmod\u001b[0m\u001b[0;34m.\u001b[0m\u001b[0mmodel_io\u001b[0m \u001b[0;32mimport\u001b[0m \u001b[0mload_ldamodel_from_pickle\u001b[0m\u001b[0;34m\u001b[0m\u001b[0;34m\u001b[0m\u001b[0m\n\u001b[0m\u001b[1;32m      4\u001b[0m \u001b[0;34m\u001b[0m\u001b[0m\n\u001b[1;32m      5\u001b[0m \u001b[0mdata\u001b[0m \u001b[0;34m=\u001b[0m \u001b[0mload_ldamodel_from_pickle\u001b[0m\u001b[0;34m(\u001b[0m\u001b[0;34m'data/tiny_model_reuters_5_topics.pickle'\u001b[0m\u001b[0;34m)\u001b[0m\u001b[0;34m\u001b[0m\u001b[0;34m\u001b[0m\u001b[0m\n",
      "\u001b[0;31mModuleNotFoundError\u001b[0m: No module named 'tmtoolkit'"
     ]
    }
   ],
   "source": [
    "# load complete model\n",
    "import numpy as np\n",
    "from tmtoolkit.topicmod.model_io import load_ldamodel_from_pickle\n",
    "\n",
    "data = load_ldamodel_from_pickle('data/tiny_model_reuters_5_topics.pickle')\n",
    "\n",
    "dtm = data['dtm']\n",
    "model = data['model']\n",
    "vocab = np.array(data['vocab'])     # this must be a NumPy array too\n",
    "doc_labels = data ['doc_labels']\n",
    "\n",
    "n_docs, n_topics = model.doc_topic_.shape\n",
    "vocab_size = len(vocab)\n",
    "\n",
    "print('model with %d topics learnt from %d documents with vocabulary size of %d unique words'\n",
    "      % (n_topics, n_docs, vocab_size))"
   ]
  },
  {
   "cell_type": "markdown",
   "metadata": {},
   "source": [
    "## Preparation\n",
    "\n",
    "For the further calculations, we need the marignal topic distribution $P(T)$ which shows how prominent each topic is for the whole corpus. In order to calculate this distribution we also need the *document lengths* at first, i.e. the number of tokens in each document."
   ]
  },
  {
   "cell_type": "code",
   "execution_count": 2,
   "metadata": {},
   "outputs": [
    {
     "name": "stdout",
     "output_type": "stream",
     "text": [
      "document lengths (num. of tokens per doc.): [257 207  92 237 243 258 202 257 377 167]\n",
      "marginal topic distribution P(T): [0.19971492 0.20981363 0.155547   0.21806089 0.21686357]\n"
     ]
    }
   ],
   "source": [
    "from tmtoolkit.topicmod.model_stats import get_doc_lengths, get_marginal_topic_distrib\n",
    "\n",
    "doc_lengths = get_doc_lengths(dtm)\n",
    "print('document lengths (num. of tokens per doc.): %s' % doc_lengths)\n",
    "\n",
    "p_t = get_marginal_topic_distrib(model.doc_topic_, doc_lengths)\n",
    "print('marginal topic distribution P(T): %s' % p_t)"
   ]
  },
  {
   "cell_type": "markdown",
   "metadata": {},
   "source": [
    "## Per-word scores: *distinctiveness* and *saliency* ([Chuang et al. 2012](https://dl.acm.org/citation.cfm?id=2254572))\n",
    "\n",
    "Used to reflect some kind of \"importance\" of word for the whole corpus. Very often occurring but very general words will be ranked lower, whereas more specific but less often occuring words will be ranked higher."
   ]
  },
  {
   "cell_type": "markdown",
   "metadata": {},
   "source": [
    "Calculation of the *word distinctiveness* score for the whole vocabulary in the corpus."
   ]
  },
  {
   "cell_type": "code",
   "execution_count": 3,
   "metadata": {},
   "outputs": [
    {
     "data": {
      "text/plain": [
       "[(1.567557839995289, 'church'),\n",
       " (1.8487588975321945, 'pope'),\n",
       " (1.5350692077322396, 'years'),\n",
       " (1.5790444909859604, 'people'),\n",
       " (1.5056846411313132, 'mother'),\n",
       " (1.4888057029699904, 'last'),\n",
       " (1.5790444909859604, 'told'),\n",
       " (1.5212332503446993, 'first'),\n",
       " (1.567557839995289, 'world'),\n",
       " (1.1082922680986158, 'year'),\n",
       " (1.4866306697490315, 'president'),\n",
       " (1.5001167907794926, 'teresa'),\n",
       " (1.3946818394723828, 'charles'),\n",
       " (0.8830486070624138, 'catholic'),\n",
       " (1.0983062482241566, 'during'),\n",
       " (1.3375488988775075, 'life'),\n",
       " (1.4866306697490315, 'u.s'),\n",
       " (1.44785948361881, 'city'),\n",
       " (1.5251250317648284, 'public'),\n",
       " (1.567557839995289, 'time')]"
      ]
     },
     "execution_count": 3,
     "metadata": {},
     "output_type": "execute_result"
    }
   ],
   "source": [
    "from tmtoolkit.topicmod.model_stats import get_word_distinctiveness\n",
    "\n",
    "word_distinct_score = get_word_distinctiveness(model.topic_word_, p_t)\n",
    "assert len(word_distinct_score) == len(vocab)\n",
    "\n",
    "list(zip(word_distinct_score, vocab))[:20]"
   ]
  },
  {
   "cell_type": "markdown",
   "metadata": {},
   "source": [
    "Shortcut for getting only the $n$ most or least distinctive words:"
   ]
  },
  {
   "cell_type": "code",
   "execution_count": 4,
   "metadata": {
    "scrolled": true
   },
   "outputs": [
    {
     "name": "stdout",
     "output_type": "stream",
     "text": [
      "10 most distinct words: ['pope' 'poles' 'political' 'john' 'poland' 'while' 'polish' 'krakow'\n",
      " 'economic' 'trip']\n",
      "10 least distinct words: ['since' 'day' 'wednesday' 'fever' 'probably' 'month' 'september' 'open'\n",
      " 'catholic' 'white']\n"
     ]
    }
   ],
   "source": [
    "from tmtoolkit.topicmod.model_stats import get_most_distinct_words, get_least_distinct_words\n",
    "\n",
    "most_distinct = get_most_distinct_words(vocab, model.topic_word_, model.doc_topic_, doc_lengths, 10)\n",
    "least_distinct = get_least_distinct_words(vocab, model.topic_word_, model.doc_topic_, doc_lengths, 10)\n",
    "\n",
    "print('10 most distinct words: %s' % most_distinct)\n",
    "print('10 least distinct words: %s' % least_distinct)"
   ]
  },
  {
   "cell_type": "markdown",
   "metadata": {},
   "source": [
    "Calculation of the *word saliency* score for the whole vocabulary in the corpus."
   ]
  },
  {
   "cell_type": "code",
   "execution_count": 5,
   "metadata": {},
   "outputs": [
    {
     "data": {
      "text/plain": [
       "[(0.004694679823037349, 'church'),\n",
       " (0.01800598709115149, 'pope'),\n",
       " (0.00852331518185614, 'years'),\n",
       " (0.006741452711996873, 'people'),\n",
       " (0.014136377465043155, 'mother'),\n",
       " (0.0025654185896164185, 'last'),\n",
       " (0.006741452711996873, 'told'),\n",
       " (0.005210272055795865, 'first'),\n",
       " (0.004694679823037349, 'world'),\n",
       " (0.0037976718628003575, 'year'),\n",
       " (0.00129464906367136, 'president'),\n",
       " (0.010251675858018661, 'teresa'),\n",
       " (0.0006221025878627883, 'charles'),\n",
       " (0.001895565957668264, 'catholic'),\n",
       " (0.002348683602127693, 'during'),\n",
       " (0.0005975082618732783, 'life'),\n",
       " (0.00129464906367136, 'u.s'),\n",
       " (0.0024967088514994324, 'city'),\n",
       " (0.005872501456164301, 'public'),\n",
       " (0.004694679823037349, 'time')]"
      ]
     },
     "execution_count": 5,
     "metadata": {},
     "output_type": "execute_result"
    }
   ],
   "source": [
    "from tmtoolkit.topicmod.model_stats import get_word_saliency\n",
    "\n",
    "word_saliency_score = get_word_saliency(model.topic_word_, model.doc_topic_, doc_lengths)\n",
    "\n",
    "assert len(word_saliency_score) == len(vocab)\n",
    "\n",
    "list(zip(word_saliency_score, vocab))[:20]"
   ]
  },
  {
   "cell_type": "markdown",
   "metadata": {},
   "source": [
    "Shortcut for getting only the $n$ most or least salient words:"
   ]
  },
  {
   "cell_type": "code",
   "execution_count": 6,
   "metadata": {},
   "outputs": [
    {
     "name": "stdout",
     "output_type": "stream",
     "text": [
      "10 most salient words: ['duke' 'pope' 'british' 'mother' 'official' 'teresa' 'order' 'years'\n",
      " 'king' 'west']\n",
      "10 least salient words: ['since' 'day' 'wednesday' 'fever' 'probably' 'month' 'september' 'open'\n",
      " 'catholic' 'white']\n"
     ]
    }
   ],
   "source": [
    "from tmtoolkit.topicmod.model_stats import get_most_salient_words, get_least_salient_words\n",
    "\n",
    "most_salient = get_most_salient_words(vocab, model.topic_word_, model.doc_topic_, doc_lengths, 10)\n",
    "least_salient = get_least_distinct_words(vocab, model.topic_word_, model.doc_topic_, doc_lengths, 10)\n",
    "\n",
    "print('10 most salient words: %s' % most_salient)\n",
    "print('10 least salient words: %s' % least_salient)"
   ]
  },
  {
   "cell_type": "markdown",
   "metadata": {},
   "source": [
    "## Topic-word relevance score ([Sievert and Shirley 2014](http://www.aclweb.org/anthology/W14-3110))\n",
    "\n",
    "Used to determine the \"importance\" for words of the corpus for a given topic (**not** the whole corpus). Very frequent but unspecific words will be ranked lower than more specific but less frequent words. Weight parameter $\\lambda$ defines the influence of a word's *lift* within a topic (the ratio of a term's probability within a topic to its marginal probability across the whole corpus). Setting $\\lambda=1$ means no influence of the lift quantity and results in the same ranking as given by the topic-word distribution. $\\lambda=0$ only uses lift for the ranking.\n",
    "\n",
    "Please note that the $\\lambda$ parameter of the relevance score functions in *tmtoolkit* can be set with `lambda_=...`. Mind the underscore at the end. This is because `lambda` is a keyword of the Python programming language."
   ]
  },
  {
   "cell_type": "markdown",
   "metadata": {},
   "source": [
    "Calculate the relevance score from the model using a specific value of $\\lambda$. The result is a $N \\times M$ matrix with $N$ being the number of topics and $M$ being the size of the vocabulary."
   ]
  },
  {
   "cell_type": "code",
   "execution_count": 7,
   "metadata": {
    "scrolled": true
   },
   "outputs": [
    {
     "data": {
      "text/plain": [
       "array([[-1.88133385, -8.90555324, -8.68076929, ..., -7.67303231,\n",
       "        -7.67010531, -3.05703018],\n",
       "       [-8.48160531, -8.95331681, -1.55764439, ..., -7.72079589,\n",
       "        -7.71786888, -7.71991427],\n",
       "       [-8.18926862, -0.91988103, -8.43619617, ..., -7.42845919,\n",
       "        -2.81041167, -7.42757758],\n",
       "       [-8.51941098, -8.99112248, -8.76633854, ..., -3.14348104,\n",
       "        -7.75567455, -7.75771994],\n",
       "       [-8.51353587, -8.98524737, -8.76046342, ..., -7.75272644,\n",
       "        -7.74979944, -7.75184483]])"
      ]
     },
     "execution_count": 7,
     "metadata": {},
     "output_type": "execute_result"
    }
   ],
   "source": [
    "from tmtoolkit.topicmod.model_stats import get_topic_word_relevance\n",
    "\n",
    "rel_mat = get_topic_word_relevance(model.topic_word_, model.doc_topic_, doc_lengths, lambda_=0.6)\n",
    "assert rel_mat.shape == (n_topics, vocab_size)\n",
    "\n",
    "rel_mat"
   ]
  },
  {
   "cell_type": "markdown",
   "metadata": {},
   "source": [
    "Shortcut for getting only the $n$ most or least relevant words in a given topic:"
   ]
  },
  {
   "cell_type": "code",
   "execution_count": 8,
   "metadata": {},
   "outputs": [
    {
     "name": "stdout",
     "output_type": "stream",
     "text": [
      "10 most relevant words in topic 3: ['mother' 'teresa' 'order' 'bethlehem' 'tree' 'heart' 'christmas'\n",
      " 'hospital' 'charity' 'year']\n",
      "10 least relevant words in topic 3: ['duke' 'pope' 'british' 'official' 'king' 'years' 'west' 'war'\n",
      " 'churchill' 'government']\n"
     ]
    }
   ],
   "source": [
    "from tmtoolkit.topicmod.model_stats import get_most_relevant_words_for_topic, get_least_relevant_words_for_topic\n",
    "\n",
    "topic = 3    # topic to choose from 0..n_topics-1\n",
    "most_relevant = get_most_relevant_words_for_topic(vocab, rel_mat, topic, 10)\n",
    "least_relevant = get_least_relevant_words_for_topic(vocab, rel_mat, topic, 10)\n",
    "\n",
    "print('10 most relevant words in topic %d: %s' % (topic, most_relevant))\n",
    "print('10 least relevant words in topic %d: %s' % (topic, least_relevant))"
   ]
  },
  {
   "cell_type": "markdown",
   "metadata": {},
   "source": [
    "### Generate wordclouds for relevance scores\n",
    "\n",
    "For each topic, create a word cloud according to the relevance scores of this topic's terms:"
   ]
  },
  {
   "cell_type": "code",
   "execution_count": 9,
   "metadata": {},
   "outputs": [],
   "source": [
    "from tmtoolkit.topicmod.visualize import generate_wordcloud_from_weights\n",
    "\n",
    "# some options for wordcloud output\n",
    "img_w = 400   # image width\n",
    "img_h = 300   # image height\n",
    "\n",
    "top_n = 20    # number of top relevance words to show\n",
    "\n",
    "wordclouds = []\n",
    "for t_idx in range(n_topics):\n",
    "    sorted_weights = list(sorted(zip(vocab, rel_mat[topic]), key=lambda x: x[1], reverse=True))\n",
    "    top_weights = dict(sorted_weights[:top_n])\n",
    "    wordclouds.append(generate_wordcloud_from_weights(top_weights, width=img_w, height=img_h))\n"
   ]
  },
  {
   "cell_type": "code",
   "execution_count": 10,
   "metadata": {},
   "outputs": [
    {
     "data": {
      "image/png": "[encoded data removed]",
      "text/plain": [
       "<PIL.Image.Image image mode=RGBA size=400x300 at 0x7FEB44424D68>"
      ]
     },
     "execution_count": 10,
     "metadata": {},
     "output_type": "execute_result"
    }
   ],
   "source": [
    "# example output: topic #4 (index 3)\n",
    "\n",
    "wordclouds[3]"
   ]
  },
  {
   "cell_type": "code",
   "execution_count": 11,
   "metadata": {},
   "outputs": [],
   "source": [
    "# save as PNG images:\n",
    "#for i, wc_img in enumerate(wordclouds):\n",
    "#    wc_img.save('topic_%d.png' % (i+1))"
   ]
  },
  {
   "cell_type": "code",
   "execution_count": null,
   "metadata": {},
   "outputs": [],
   "source": []
  }
 ],
 "metadata": {
  "kernelspec": {
   "display_name": "Python 3",
   "language": "python",
   "name": "python3"
  },
  "language_info": {
   "codemirror_mode": {
    "name": "ipython",
    "version": 3
   },
   "file_extension": ".py",
   "mimetype": "text/x-python",
   "name": "python",
   "nbconvert_exporter": "python",
   "pygments_lexer": "ipython3",
   "version": "3.6.7"
  }
 },
 "nbformat": 4,
 "nbformat_minor": 2
}
