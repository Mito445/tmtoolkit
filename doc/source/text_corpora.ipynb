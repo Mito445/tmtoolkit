{
 "cells": [
  {
   "cell_type": "markdown",
   "metadata": {},
   "source": [
    "# Working with text corpora\n",
    "\n",
    "Your text data usually comes in the form of (long) plain text strings that are stored in one or several files on disk. The [Corpus](api.rst#tmtoolkit-corpus) class is for loading and managing *plain text* corpora, i.e. a set of documents with a label and their content as text strings. It resembles a [Python dictionary](https://docs.python.org/3/tutorial/datastructures.html#dictionaries) with additional functionality.\n",
    "\n",
    "Let's import the `Corpus` class first:"
   ]
  },
  {
   "cell_type": "code",
   "execution_count": 1,
   "outputs": [],
   "source": [
    "from tmtoolkit.corpus import Corpus"
   ],
   "metadata": {
    "collapsed": false,
    "pycharm": {
     "name": "#%%\n",
     "is_executing": false
    }
   }
  },
  {
   "cell_type": "markdown",
   "source": [
    "## Loading text data\n",
    "\n",
    "Several methods are implemented to load text data from different sources:\n",
    "\n",
    "- load built-in datasets\n",
    "- load plain text files (\".txt files\")\n",
    "- load folder(s) with plain text files\n",
    "- load a tabular (i.e. CSV or Excel) file containing document IDs and texts\n",
    "- load a ZIP file containing plain text or tabular files\n",
    "\n",
    "We can create a `Corpus` object directly by immediately loading a dataset using one of the `Corpus.from_...` methods. This is what we've done when we used `corpus = Corpus.from_builtin_corpus('english-NewsArticles')` in the [previous chapter](getting_started.ipynb). Let's load a folder with example documents. Make sure that the path is relative to the current working directory. The data for these examples can be downloaded from [GitHub](https://github.com/WZBSocialScienceCenter/tmtoolkit/tree/master/doc/source/data). \n",
    "\n",
    "\n",
    "<div class=\"alert alert-info\">\n",
    "\n",
    "**Note:** If you want to work with \"rich text documents\", i.e. formatted, non-plain text sources such as PDFs, Word documents, HTML files, etc. you must convert them to one of the supported formats first. For example you can use the [pdftotext](https://www.mankier.com/1/pdftotext) command from the Linux package `poppler-utils` to convert from PDF to plain text files or [pandoc](https://pandoc.org/) to convert from Word or HTML to plain text.\n",
    "\n",
    "</div>"
   ],
   "metadata": {
    "collapsed": false,
    "pycharm": {
     "name": "#%% md\n"
    }
   }
  },
  {
   "cell_type": "code",
   "execution_count": 2,
   "metadata": {
    "pycharm": {
     "is_executing": false
    }
   },
   "outputs": [
    {
     "data": {
      "text/plain": "<Corpus [3 documents]>"
     },
     "metadata": {},
     "output_type": "execute_result",
     "execution_count": 2
    }
   ],
   "source": [
    "corpus = Corpus.from_folder('data/corpus_example')\n",
    "corpus"
   ]
  },
  {
   "cell_type": "markdown",
   "source": [
    "Again, we can have a look which document labels were created and print one sample document:"
   ],
   "metadata": {
    "collapsed": false,
    "pycharm": {
     "name": "#%% md\n"
    }
   }
  },
  {
   "cell_type": "code",
   "execution_count": 3,
   "outputs": [
    {
     "data": {
      "text/plain": "['sample1', 'sample3', 'sample2']"
     },
     "metadata": {},
     "output_type": "execute_result",
     "execution_count": 3
    }
   ],
   "source": [
    "corpus.doc_labels"
   ],
   "metadata": {
    "collapsed": false,
    "pycharm": {
     "name": "#%%\n",
     "is_executing": false
    }
   }
  },
  {
   "cell_type": "code",
   "execution_count": 4,
   "outputs": [
    {
     "data": {
      "text/plain": "'This is the first example file. ☺'"
     },
     "metadata": {},
     "output_type": "execute_result",
     "execution_count": 4
    }
   ],
   "source": [
    "corpus['sample1']"
   ],
   "metadata": {
    "collapsed": false,
    "pycharm": {
     "name": "#%%\n",
     "is_executing": false
    }
   }
  },
  {
   "cell_type": "markdown",
   "source": [
    "Now let's look at *all* documents' text. Since we have a very small corpus, printing all text out shouldn't be a problem. We can iterate through all documents by using the `items()` method because a `Corpus` object behaves like a `dict`. We will write a small function for this because we'll reuse this later and one of the most important principles when writing code is [DRY – don't repeat yourself](https://en.wikipedia.org/wiki/Don't_repeat_yourself)."
   ],
   "metadata": {
    "collapsed": false,
    "pycharm": {
     "name": "#%% md\n"
    }
   }
  },
  {
   "cell_type": "code",
   "execution_count": 5,
   "outputs": [
    {
     "name": "stdout",
     "text": [
      "sample1 :\nThis is the first example file. ☺\n---\n\nsample3 :\nAnd here we go with the third and final example file.\nAnother line of text.\n\n§2.\nThis is the second paragraph.\n\nThe third and final paragraph.\n---\n\nsample2 :\nHere comes the second example.\n\nThis one contains three lines of plain text which means two paragraphs.\n---\n\n"
     ],
     "output_type": "stream"
    }
   ],
   "source": [
    "def print_corpus(c):\n",
    "    \"\"\"Print all documents and their text in corpus `c`\"\"\"\n",
    "    \n",
    "    for doc_label, doc_text in c.items():\n",
    "        print(doc_label, ':')\n",
    "        print(doc_text)\n",
    "        print('---\\n')\n",
    "\n",
    "print_corpus(corpus)"
   ],
   "metadata": {
    "collapsed": false,
    "pycharm": {
     "name": "#%%\n",
     "is_executing": false
    }
   }
  },
  {
   "cell_type": "markdown",
   "source": [
    "Another option is to create a `Corpus` object by passing a dictionary of already obtained data and optionally add further documents using the `Corpus.add_...` methods. We can also create an empty `Corpus` and then add documents:"
   ],
   "metadata": {
    "collapsed": false
   }
  },
  {
   "cell_type": "code",
   "execution_count": 6,
   "outputs": [
    {
     "data": {
      "text/plain": "<Corpus [0 documents]>"
     },
     "metadata": {},
     "output_type": "execute_result",
     "execution_count": 6
    }
   ],
   "source": [
    "corpus = Corpus()\n",
    "corpus"
   ],
   "metadata": {
    "collapsed": false,
    "pycharm": {
     "name": "#%%\n",
     "is_executing": false
    }
   }
  },
  {
   "cell_type": "code",
   "execution_count": 7,
   "outputs": [
    {
     "data": {
      "text/plain": "['data_corpus_example-sample1']"
     },
     "metadata": {},
     "output_type": "execute_result",
     "execution_count": 7
    }
   ],
   "source": [
    "corpus.add_files('data/corpus_example/sample1.txt')\n",
    "corpus.doc_labels"
   ],
   "metadata": {
    "collapsed": false,
    "pycharm": {
     "name": "#%%\n",
     "is_executing": false
    }
   }
  },
  {
   "cell_type": "markdown",
   "source": [
    "See how we created an empty corpus first and then added a single document. Also note that this time the document label is different. Its prefixed by a normalized version of the path to the document. We can alter the `doc_label_fmt` argument of [Corpus.add_files()](api.rst#tmtoolkit.corpus.Corpus.add_files) in order to control how document labels are generated. But at first, let's remove the previously loaded document from the corpus. Since a `Corpus` instance behaves like a Python `dict`, we can use `del`:"
   ],
   "metadata": {
    "collapsed": false,
    "pycharm": {
     "name": "#%% md\n"
    }
   }
  },
  {
   "cell_type": "code",
   "execution_count": 8,
   "outputs": [
    {
     "data": {
      "text/plain": "<Corpus [0 documents]>"
     },
     "metadata": {},
     "output_type": "execute_result",
     "execution_count": 8
    }
   ],
   "source": [
    "del corpus['data_corpus_example-sample1']\n",
    "corpus"
   ],
   "metadata": {
    "collapsed": false,
    "pycharm": {
     "name": "#%%\n",
     "is_executing": false
    }
   }
  },
  {
   "cell_type": "markdown",
   "source": [
    "Now we use a modified `doc_label_fmt` paramater value to generate document labels only from the file name and not from the full path to the document. We also load three files now:"
   ],
   "metadata": {
    "collapsed": false,
    "pycharm": {
     "name": "#%% md\n"
    }
   }
  },
  {
   "cell_type": "code",
   "execution_count": 9,
   "outputs": [
    {
     "data": {
      "text/plain": "['sample1', 'sample2', 'sample3']"
     },
     "metadata": {},
     "output_type": "execute_result",
     "execution_count": 9
    }
   ],
   "source": [
    "corpus.add_files(['data/corpus_example/sample1.txt',\n",
    "                  'data/corpus_example/sample2.txt',\n",
    "                  'data/corpus_example/sample3.txt'],\n",
    "                 doc_label_fmt='{basename}')\n",
    "corpus.doc_labels\n"
   ],
   "metadata": {
    "collapsed": false,
    "pycharm": {
     "name": "#%%\n",
     "is_executing": false
    }
   }
  },
  {
   "cell_type": "markdown",
   "source": [
    "As noted in the beginning, there are more `add_...` and `from_...` methods to load text data from different sources. See the [Corpus API](api.rst#tmtoolkit-corpus) for details.\n",
    "\n",
    "<div class=\"alert alert-info\">\n",
    "\n",
    "**Note:** Please be aware of the difference of the `add_...` and `from_...` methods: The former *modifies* a given Corpus instance, whereas the latter *creates* a new Corpus instance.\n",
    "\n",
    "</div>\n",
    "\n",
    "## Corpus properties and methods\n",
    "\n",
    "A `Corpus` object provides several helpful properties that summarize the plain text data and several methods to manage the documents.\n",
    " \n",
    "### Number of documents and characters\n",
    " \n",
    "Let's start with the number of documents in the corpus. There are two ways to obtain this value: "
   ],
   "metadata": {
    "collapsed": false,
    "pycharm": {
     "name": "#%% md\n"
    }
   }
  },
  {
   "cell_type": "code",
   "execution_count": 10,
   "outputs": [
    {
     "data": {
      "text/plain": "3"
     },
     "metadata": {},
     "output_type": "execute_result",
     "execution_count": 10
    }
   ],
   "source": [
    "len(corpus)"
   ],
   "metadata": {
    "collapsed": false,
    "pycharm": {
     "name": "#%%\n",
     "is_executing": false
    }
   }
  },
  {
   "cell_type": "code",
   "execution_count": 11,
   "outputs": [
    {
     "data": {
      "text/plain": "3"
     },
     "metadata": {},
     "output_type": "execute_result",
     "execution_count": 11
    }
   ],
   "source": [
    "corpus.n_docs"
   ],
   "metadata": {
    "collapsed": false,
    "pycharm": {
     "name": "#%%\n",
     "is_executing": false
    }
   }
  },
  {
   "cell_type": "markdown",
   "source": [
    "Another important property is the number of characters per document: "
   ],
   "metadata": {
    "collapsed": false,
    "pycharm": {
     "name": "#%% md\n",
     "is_executing": false
    }
   }
  },
  {
   "cell_type": "code",
   "execution_count": 12,
   "outputs": [
    {
     "data": {
      "text/plain": "{'sample1': 33, 'sample2': 103, 'sample3': 142}"
     },
     "metadata": {},
     "output_type": "execute_result",
     "execution_count": 12
    }
   ],
   "source": [
    "corpus.doc_lengths"
   ],
   "metadata": {
    "collapsed": false,
    "pycharm": {
     "name": "#%%\n",
     "is_executing": false
    }
   }
  },
  {
   "cell_type": "markdown",
   "source": [
    "### Characters used in the corpus \n",
    "\n",
    "The `unique_characters` property returns the set of characters that occur at least once in the document."
   ],
   "metadata": {
    "collapsed": false,
    "pycharm": {
     "name": "#%% md\n"
    }
   }
  },
  {
   "cell_type": "code",
   "execution_count": 13,
   "outputs": [
    {
     "data": {
      "text/plain": "{'\\n',\n ' ',\n '.',\n '2',\n 'A',\n 'H',\n 'T',\n 'a',\n 'c',\n 'd',\n 'e',\n 'f',\n 'g',\n 'h',\n 'i',\n 'l',\n 'm',\n 'n',\n 'o',\n 'p',\n 'r',\n 's',\n 't',\n 'w',\n 'x',\n '§',\n '☺'}"
     },
     "metadata": {},
     "output_type": "execute_result",
     "execution_count": 13
    }
   ],
   "source": [
    "corpus.unique_characters"
   ],
   "metadata": {
    "collapsed": false,
    "pycharm": {
     "name": "#%%\n",
     "is_executing": false
    }
   }
  },
  {
   "cell_type": "markdown",
   "source": [
    "This is helpful if you want to check if there are strange characters in your documents that you may want to replace or remove. For example, I included a Unicode smiley ☺ in the first document (which may not be rendered correctly in your browser) that we can remove using [Corpus.remove_characters()](api.rst#tmtoolkit.corpus.Corpus.remove_characters). "
   ],
   "metadata": {
    "collapsed": false,
    "pycharm": {
     "name": "#%% md\n",
     "is_executing": false
    }
   }
  },
  {
   "cell_type": "code",
   "execution_count": 14,
   "outputs": [
    {
     "data": {
      "text/plain": "'This is the first example file. ☺'"
     },
     "metadata": {},
     "output_type": "execute_result",
     "execution_count": 14
    }
   ],
   "source": [
    "corpus['sample1']"
   ],
   "metadata": {
    "collapsed": false,
    "pycharm": {
     "name": "#%%\n",
     "is_executing": false
    }
   }
  },
  {
   "cell_type": "code",
   "execution_count": 15,
   "outputs": [
    {
     "data": {
      "text/plain": "'This is the first example file. '"
     },
     "metadata": {},
     "output_type": "execute_result",
     "execution_count": 15
    }
   ],
   "source": [
    "corpus.remove_characters('☺')\n",
    "corpus['sample1']"
   ],
   "metadata": {
    "collapsed": false,
    "pycharm": {
     "name": "#%%\n",
     "is_executing": false
    }
   }
  },
  {
   "cell_type": "markdown",
   "source": [
    "[Corpus.filter_characters()](api.rst#tmtoolkit.corpus.Corpus.filter_characters) behaves similar to the above used method but by default removes *all* characters that are not in a whitelist of allowed characters.\n",
    "\n",
    "[Corpus.replace_characters()](api.rst#tmtoolkit.corpus.Corpus.replace_characters) also allows to replace certain characters with others. With [Corpus.apply()](api.rst#tmtoolkit.corpus.Corpus.apply) you can perform any custom text transformation on each document.\n",
    "\n",
    "There are more filtering methods: [Corpus.filter_by_min_length()](api.rst#tmtoolkit.corpus.Corpus.filter_by_min_length) / [Corpus.filter_by_max_length()](api.rst#tmtoolkit.corpus.Corpus.filter_by_max_length) allow to remove documents that are too short or too long.\n",
    "\n",
    "<div class=\"alert alert-info\">\n",
    "\n",
    "**Note:** These methods already go in the direction of \"text preprocessing\", which is the topic of the next chapter and is implemented in the [tmtoolkit.preprocess](api.rst#tmtoolkit-preprocess) module. However, the methods in `Corpus` differ substantially from the `preprocess` module, as the `Corpus` methods work on untokenized plain text strings whereas the `preprocess` functions and methods work on document *tokens* (e.g. individual words) and therefore provide a much richer set of tools. However, sometimes it is necessary to do things like removing certain characters *before* tokenization, e.g. when such characters confuse the tokenizer.\n",
    "\n",
    "</div>\n",
    "\n",
    "### Splitting by paragraphs\n",
    "\n",
    "Another helpful method is [Corpus.split_by_paragraphs()](api.rst#tmtoolkit.corpus.Corpus.split_by_paragraphs). This allows splitting each document of the corpus by paragraph.\n",
    "\n",
    "Again, let's have a look at our current corpus' documents:"
   ],
   "metadata": {
    "collapsed": false,
    "pycharm": {
     "name": "#%% md\n",
     "is_executing": false
    }
   }
  },
  {
   "cell_type": "code",
   "execution_count": 16,
   "outputs": [
    {
     "name": "stdout",
     "text": [
      "sample1 :\nThis is the first example file. \n---\n\nsample2 :\nHere comes the second example.\n\nThis one contains three lines of plain text which means two paragraphs.\n---\n\nsample3 :\nAnd here we go with the third and final example file.\nAnother line of text.\n\n§2.\nThis is the second paragraph.\n\nThe third and final paragraph.\n---\n\n"
     ],
     "output_type": "stream"
    }
   ],
   "source": [
    "print_corpus(corpus)"
   ],
   "metadata": {
    "collapsed": false,
    "pycharm": {
     "name": "#%%\n",
     "is_executing": false
    }
   }
  },
  {
   "cell_type": "markdown",
   "source": [
    "As we can see, `sample1` contains one paragraph, `sample2` two and `sample3` three paragraphs. Now we can split those and get the expected number of documents (each paragraph is then an individual document):"
   ],
   "metadata": {
    "collapsed": false,
    "pycharm": {
     "name": "#%% md\n"
    }
   }
  },
  {
   "cell_type": "code",
   "execution_count": 17,
   "outputs": [
    {
     "data": {
      "text/plain": "<Corpus [6 documents]>"
     },
     "metadata": {},
     "output_type": "execute_result",
     "execution_count": 17
    }
   ],
   "source": [
    "corpus.split_by_paragraphs()\n",
    "corpus"
   ],
   "metadata": {
    "collapsed": false,
    "pycharm": {
     "name": "#%%\n",
     "is_executing": false
    }
   }
  },
  {
   "cell_type": "markdown",
   "source": [
    "Our newly created six documents:"
   ],
   "metadata": {
    "collapsed": false,
    "pycharm": {
     "name": "#%% md\n"
    }
   }
  },
  {
   "cell_type": "code",
   "execution_count": 18,
   "outputs": [
    {
     "name": "stdout",
     "text": [
      "sample1-1 :\nThis is the first example file. \n---\n\nsample2-1 :\nHere comes the second example.\n---\n\nsample2-2 :\nThis one contains three lines of plain text which means two paragraphs.\n---\n\nsample3-1 :\nAnd here we go with the third and final example file. Another line of text.\n---\n\nsample3-2 :\n§2. This is the second paragraph.\n---\n\nsample3-3 :\nThe third and final paragraph.\n---\n\n"
     ],
     "output_type": "stream"
    }
   ],
   "source": [
    "print_corpus(corpus)"
   ],
   "metadata": {
    "collapsed": false,
    "pycharm": {
     "name": "#%%\n",
     "is_executing": false
    }
   }
  },
  {
   "cell_type": "markdown",
   "source": [
    "You can further customize the splitting process by tweaking the parameters, e.g. the minimum number of line breaks used to detect paragraphs (default is two line breaks).\n",
    "\n",
    "### Sampling a corpus   \n",
    "\n",
    "Finally you can sample the documents in a corpus using [Corpus.sample()](api.rst#tmtoolkit.corpus.Corpus.sample). To get a random sample of three documents from our corpus:"
   ],
   "metadata": {
    "collapsed": false,
    "pycharm": {
     "name": "#%% md\n",
     "is_executing": false
    }
   }
  },
  {
   "cell_type": "code",
   "execution_count": 19,
   "outputs": [
    {
     "data": {
      "text/plain": "{'sample3-3': 'The third and final paragraph.',\n 'sample3-2': '§2. This is the second paragraph.',\n 'sample1-1': 'This is the first example file. '}"
     },
     "metadata": {},
     "output_type": "execute_result",
     "execution_count": 19
    }
   ],
   "source": [
    "corpus.sample(3)"
   ],
   "metadata": {
    "collapsed": false,
    "pycharm": {
     "name": "#%%\n",
     "is_executing": false
    }
   }
  },
  {
   "cell_type": "markdown",
   "source": [
    "Note that this returns a simple Python `dict`, not a full-fledged `Corpus` instance. However, you can of course easily create a new `Corpus` from the sample because `Corpus` accepts a `dict` as initial data: "
   ],
   "metadata": {
    "collapsed": false,
    "pycharm": {
     "name": "#%% md\n",
     "is_executing": false
    }
   }
  },
  {
   "cell_type": "code",
   "execution_count": 20,
   "outputs": [
    {
     "data": {
      "text/plain": "<Corpus [3 documents]>"
     },
     "metadata": {},
     "output_type": "execute_result",
     "execution_count": 20
    }
   ],
   "source": [
    "sample_corpus = Corpus(corpus.sample(3))\n",
    "sample_corpus"
   ],
   "metadata": {
    "collapsed": false,
    "pycharm": {
     "name": "#%%\n",
     "is_executing": false
    }
   }
  }
 ],
 "metadata": {
  "kernelspec": {
   "display_name": "Python 3",
   "language": "python",
   "name": "python3"
  },
  "language_info": {
   "codemirror_mode": {
    "name": "ipython",
    "version": 3
   },
   "file_extension": ".py",
   "mimetype": "text/x-python",
   "name": "python",
   "nbconvert_exporter": "python",
   "pygments_lexer": "ipython3",
   "version": "3.6.7"
  },
  "pycharm": {
   "stem_cell": {
    "cell_type": "raw",
    "source": [],
    "metadata": {
     "collapsed": false
    }
   }
  }
 },
 "nbformat": 4,
 "nbformat_minor": 2
}