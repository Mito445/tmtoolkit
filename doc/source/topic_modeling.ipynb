{
 "cells": [
  {
   "cell_type": "markdown",
   "metadata": {},
   "source": [
    "# Topic modeling\n",
    "\n",
    "The [topicmod module](api.rst#module-tmtoolkit.topicmod) offers a wide range of tools to facilitate [topic modeling](https://cacm.acm.org/magazines/2012/4/147361-probabilistic-topic-models/fulltext) with Python. This chapter will introduce the following techniques: \n",
    "\n",
    "TODO (link this)\n",
    "TODO model convergence\n",
    "\n",
    "- [parallel topic model computation for different copora and/or parameter sets](#Computing-topic-models-in-parallel)\n",
    "- evaluation of topic models (including finding the \"optimal\" number of topics)\n",
    "- common statistics for topic models\n",
    "- export of topic models and summaries to different file formats\n",
    "- visualization of topic models\n",
    "\n",
    "## An example document-term matrix\n",
    "\n",
    "tmtoolkit supports topic models that are computed from document-term matrices (DTMs). Just as in the previous chapter, we will at first generate a DTM. However, this time the sample will be bigger:"
   ]
  },
  {
   "cell_type": "code",
   "execution_count": 1,
   "metadata": {},
   "outputs": [],
   "source": [
    "import random\n",
    "random.seed(20191120)   # to make the sampling reproducible\n",
    "\n",
    "import numpy as np\n",
    "np.set_printoptions(precision=5)\n",
    "\n",
    "from tmtoolkit.corpus import Corpus\n",
    "\n",
    "corpus = Corpus.from_builtin_corpus('english-NewsArticles').sample(100)"
   ]
  },
  {
   "cell_type": "markdown",
   "metadata": {},
   "source": [
    "We will also now generate two DTMs, because we later want to show how you can compute topic models for two different DTMs in parallel. At first, we to some general preprocessing:"
   ]
  },
  {
   "cell_type": "code",
   "execution_count": 2,
   "metadata": {},
   "outputs": [
    {
     "data": {
      "text/plain": [
       "<TMPreproc [100 documents]>"
      ]
     },
     "execution_count": 2,
     "metadata": {},
     "output_type": "execute_result"
    }
   ],
   "source": [
    "from tmtoolkit.preprocess import TMPreproc\n",
    "\n",
    "preproc = TMPreproc(corpus)\n",
    "preproc.pos_tag() \\\n",
    "    .lemmatize() \\\n",
    "    .tokens_to_lowercase() \\\n",
    "    .remove_special_chars_in_tokens()"
   ]
  },
  {
   "cell_type": "markdown",
   "metadata": {},
   "source": [
    "Now we at first apply more \"relaxed\" cleaning:"
   ]
  },
  {
   "cell_type": "code",
   "execution_count": 3,
   "metadata": {},
   "outputs": [
    {
     "data": {
      "text/plain": [
       "(100, 846)"
      ]
     },
     "execution_count": 3,
     "metadata": {},
     "output_type": "execute_result"
    }
   ],
   "source": [
    "preproc_bigger = preproc.copy() \\\n",
    "    .clean_tokens(remove_shorter_than=2) \\\n",
    "    .remove_common_tokens(df_threshold=0.95) \\\n",
    "    .remove_uncommon_tokens(df_threshold=0.05)\n",
    "\n",
    "preproc_bigger.n_docs, preproc_bigger.vocabulary_size"
   ]
  },
  {
   "cell_type": "markdown",
   "metadata": {},
   "source": [
    "Another copy of `preproc` will apply more aggressive cleaning and hence in a smaller vocabulary size:"
   ]
  },
  {
   "cell_type": "code",
   "execution_count": 4,
   "metadata": {},
   "outputs": [
    {
     "data": {
      "text/plain": [
       "(100, 149)"
      ]
     },
     "execution_count": 4,
     "metadata": {},
     "output_type": "execute_result"
    }
   ],
   "source": [
    "preproc_smaller = preproc.copy() \\\n",
    "    .filter_for_pos('N') \\\n",
    "    .clean_tokens(remove_numbers=True, remove_shorter_than=2) \\\n",
    "    .remove_common_tokens(df_threshold=0.9) \\\n",
    "    .remove_uncommon_tokens(df_threshold=0.1)\n",
    "\n",
    "del preproc\n",
    "\n",
    "preproc_smaller.n_docs, preproc_smaller.vocabulary_size"
   ]
  },
  {
   "cell_type": "markdown",
   "metadata": {},
   "source": [
    "We will create the document labels, vocabulary arrays and DTMs for both versions now:"
   ]
  },
  {
   "cell_type": "code",
   "execution_count": 5,
   "metadata": {},
   "outputs": [
    {
     "data": {
      "text/plain": [
       "array(['NewsArticles-1032', 'NewsArticles-1036', 'NewsArticles-104',\n",
       "       'NewsArticles-1043', 'NewsArticles-1048', 'NewsArticles-1090',\n",
       "       'NewsArticles-1126', 'NewsArticles-113', 'NewsArticles-1137',\n",
       "       'NewsArticles-1141'], dtype='<U17')"
      ]
     },
     "execution_count": 5,
     "metadata": {},
     "output_type": "execute_result"
    }
   ],
   "source": [
    "# doc_labels are the same for both\n",
    "\n",
    "doc_labels = np.array(preproc_bigger.doc_labels)\n",
    "doc_labels[:10]"
   ]
  },
  {
   "cell_type": "code",
   "execution_count": 6,
   "metadata": {},
   "outputs": [],
   "source": [
    "vocab_bg = np.array(preproc_bigger.vocabulary)\n",
    "vocab_sm = np.array(preproc_smaller.vocabulary) "
   ]
  },
  {
   "cell_type": "code",
   "execution_count": 7,
   "metadata": {},
   "outputs": [
    {
     "data": {
      "text/plain": [
       "(<100x846 sparse matrix of type '<class 'numpy.int32'>'\n",
       " \twith 10356 stored elements in Compressed Sparse Row format>,\n",
       " <100x149 sparse matrix of type '<class 'numpy.int32'>'\n",
       " \twith 2482 stored elements in Compressed Sparse Row format>)"
      ]
     },
     "execution_count": 7,
     "metadata": {},
     "output_type": "execute_result"
    }
   ],
   "source": [
    "dtm_bg = preproc_bigger.dtm\n",
    "dtm_sm = preproc_smaller.dtm\n",
    "\n",
    "del preproc_bigger, preproc_smaller  # don't need these any more\n",
    "\n",
    "dtm_bg, dtm_sm"
   ]
  },
  {
   "cell_type": "markdown",
   "metadata": {},
   "source": [
    "We now have two sparse DTMs `dtm_bg` (from the bigger preprocessed data) and `dtm_sm` (from the smaller preprocessed data), a list of document labels `doc_labels` that represent the rows of both DTMs and vocabulary arrays `vocab_bg` and `vocab_sm` that represent the columns of the respective DTMs. We will use this data for the remainder of the chapter."
   ]
  },
  {
   "cell_type": "markdown",
   "metadata": {},
   "source": [
    "## Computing topic models in parallel\n",
    "\n",
    "tmtoolkit allows to compute topic models in parallel, making use of all processor cores in your machine. Parallelization can be done per input DTM, per hyperparameter set and as combination of both. Hyperparameters control the number of topics and their \"granularity\". We will later have a look at the role of hyperparameters and how to find an optimal combination for a given dataset with the means of topic model evaluation.\n",
    "\n",
    "For now, we will concentrate on computing the topic models for both of our two DTMs in parallel. tmtoolkit supports three very popular packages for topic modeling, which provide the work of actually computing the model from the input matrix. They can all be accessed in separate sub-modules of the [topicmod module](api.rst#module-tmtoolkit.topicmod):\n",
    "\n",
    "- [topicmod.tm_lda](api.html#module-tmtoolkit.topicmod.tm_lda) provides an interface for the [lda](https://lda.readthedocs.io/en/latest/) package\n",
    "- [topicmod.tm_sklearn](api.html#module-tmtoolkit.topicmod.tm_sklearn) provides an interface for the [scikit-learn](http://scikit-learn.org/stable/modules/generated/sklearn.decomposition.LatentDirichletAllocation.html) package\n",
    "- [topicmod.tm_gensim](api.html#module-tmtoolkit.topicmod.tm_gensim) provides an interface for the [Gensim](https://radimrehurek.com/gensim/) package\n",
    "\n",
    "Each of these sub-modules offer at least two functions that work with the respective package: `compute_models_parallel()` for general parallel model computation and `evaluate_topic_models()` for parallel model computation and evaluation (discussed later). For now, we want to compute two models in parallel with the [lda](https://lda.readthedocs.io/en/latest/) package and hence use [compute_models_parallel()](api.rst#tmtoolkit.topicmod.tm_lda.compute_models_parallel) from [topicmod.tm_lda](api.html#module-tmtoolkit.topicmod.tm_lda).\n",
    "\n",
    "We need to provide two things for this function: First, the input matrices as a dict that maps labels to the respective DTMs. Second, hyperparameters to use for the model computations. Note that each topic modeling package has different hyperparameters and you should refer to their documentation in order to find out, which hyperparameters you can provide. For lda, we set the number of topics `n_topics` to 10 and the number of iterations for the Gibbs sampling process `n_iter` to 1000. We always want to use the same hyperparameters, so we pass these as `constant_parameters`. If we wanted to create models for a whole range of parameters, e.g. for different numbers of topics, we could provide `varying_parameters`. We will check this out later when we evaluate topic models.\n",
    "\n",
    "<div class=\"alert alert-info\">\n",
    "    \n",
    "Note that for proper topic modeling, we shouldn't just set the number of topics, but try to find it out via evaluation methods. We should also check if the algorithm converged using the provided likelihood estimations. We will do both later on, but now focus on `compute_models_parallel()`.\n",
    "\n",
    "</div>"
   ]
  },
  {
   "cell_type": "code",
   "execution_count": 8,
   "metadata": {},
   "outputs": [
    {
     "data": {
      "text/plain": [
       "defaultdict(list,\n",
       "            {'smaller': [({'n_topics': 10, 'n_iter': 1000},\n",
       "               <lda.lda.LDA at 0x7fd0ac341e80>)],\n",
       "             'bigger': [({'n_topics': 10, 'n_iter': 1000},\n",
       "               <lda.lda.LDA at 0x7fd0ac3419b0>)]})"
      ]
     },
     "execution_count": 8,
     "metadata": {},
     "output_type": "execute_result"
    }
   ],
   "source": [
    "import logging\n",
    "import warnings\n",
    "from tmtoolkit.topicmod.tm_lda import compute_models_parallel\n",
    "\n",
    "# suppress the \"INFO\" messages and warnings from lda\n",
    "logger = logging.getLogger('lda')\n",
    "logger.addHandler(logging.NullHandler())\n",
    "logger.propagate = False\n",
    "\n",
    "warnings.filterwarnings('ignore')\n",
    "\n",
    "# set data to use\n",
    "dtms = {\n",
    "    'bigger': dtm_bg,\n",
    "    'smaller': dtm_sm\n",
    "}\n",
    "\n",
    "# and fixed hyperparameters\n",
    "lda_params = {\n",
    "    'n_topics': 10,\n",
    "    'n_iter': 1000\n",
    "}\n",
    "\n",
    "models = compute_models_parallel(dtms, constant_parameters=lda_params)\n",
    "models"
   ]
  },
  {
   "cell_type": "markdown",
   "metadata": {},
   "source": [
    "As expected, two models were created. These can be accessed via the labels that we used to define the `dtm` dict:"
   ]
  },
  {
   "cell_type": "code",
   "execution_count": 9,
   "metadata": {},
   "outputs": [
    {
     "data": {
      "text/plain": [
       "[({'n_topics': 10, 'n_iter': 1000}, <lda.lda.LDA at 0x7fd0ac341e80>)]"
      ]
     },
     "execution_count": 9,
     "metadata": {},
     "output_type": "execute_result"
    }
   ],
   "source": [
    "models['smaller']"
   ]
  },
  {
   "cell_type": "markdown",
   "metadata": {},
   "source": [
    "We can see that for each input DTM, we get a list of 2-tuples. The first element in each tuple is a dict that represents the hyperparameters that were used to compute the model, the second element is actual topic model (the `<lda.lda.LDA ...>` object). This structure looks a bit complex, but this is because it also supports varying parameters. Since we only have one fixed set of hyperparameters per DTM, we only have a list of length 1 for each DTM.\n",
    "\n",
    "We will now access the models and print the top words per topic by using [print_ldamodel_topic_words()](api.rst#tmtoolkit.topicmod.model_io.print_ldamodel_topic_words):"
   ]
  },
  {
   "cell_type": "code",
   "execution_count": 10,
   "metadata": {},
   "outputs": [
    {
     "name": "stdout",
     "output_type": "stream",
     "text": [
      "topic_1\n",
      "> #1. election (0.116892)\n",
      "> #2. minister (0.116892)\n",
      "> #3. government (0.045260)\n",
      "topic_2\n",
      "> #1. world (0.119978)\n",
      "> #2. policy (0.058777)\n",
      "> #3. united (0.051433)\n",
      "topic_3\n",
      "> #1. time (0.109932)\n",
      "> #2. year (0.104878)\n",
      "> #3. people (0.053077)\n",
      "topic_4\n",
      "> #1. trump (0.195735)\n",
      "> #2. president (0.158456)\n",
      "> #3. house (0.111857)\n",
      "topic_5\n",
      "> #1. report (0.103385)\n",
      "> #2. us (0.083024)\n",
      "> #3. official (0.072061)\n",
      "topic_6\n",
      "> #1. mr (0.232514)\n",
      "> #2. day (0.108261)\n",
      "> #3. morning (0.092228)\n",
      "topic_7\n",
      "> #1. police (0.179640)\n",
      "> #2. attack (0.130932)\n",
      "> #3. man (0.103534)\n",
      "topic_8\n",
      "> #1. people (0.156245)\n",
      "> #2. country (0.140751)\n",
      "> #3. government (0.055533)\n",
      "topic_9\n",
      "> #1. china (0.210063)\n",
      "> #2. company (0.121380)\n",
      "> #3. market (0.095708)\n",
      "topic_10\n",
      "> #1. party (0.117530)\n",
      "> #2. germany (0.112634)\n",
      "> #3. percent (0.083258)\n"
     ]
    }
   ],
   "source": [
    "from tmtoolkit.topicmod.model_io import print_ldamodel_topic_words\n",
    "\n",
    "model_sm = models['smaller'][0][1]\n",
    "print_ldamodel_topic_words(model_sm.topic_word_, vocab_sm, top_n=3)"
   ]
  },
  {
   "cell_type": "code",
   "execution_count": 11,
   "metadata": {},
   "outputs": [
    {
     "name": "stdout",
     "output_type": "stream",
     "text": [
      "topic_1\n",
      "> #1. people (0.080322)\n",
      "> #2. report (0.040903)\n",
      "> #3. make (0.033019)\n",
      "topic_2\n",
      "> #1. china (0.067249)\n",
      "> #2. company (0.056042)\n",
      "> #3. new (0.050065)\n",
      "topic_3\n",
      "> #1. russian (0.050571)\n",
      "> #2. russia (0.045709)\n",
      "> #3. say (0.042792)\n",
      "topic_4\n",
      "> #1. trump (0.081691)\n",
      "> #2. us (0.036571)\n",
      "> #3. white (0.035015)\n",
      "topic_5\n",
      "> #1. one (0.025457)\n",
      "> #2. year (0.024804)\n",
      "> #3. time (0.019582)\n",
      "topic_6\n",
      "> #1. country (0.042422)\n",
      "> #2. world (0.027389)\n",
      "> #3. could (0.026315)\n",
      "topic_7\n",
      "> #1. say (0.114354)\n",
      "> #2. mr (0.025032)\n",
      "> #3. use (0.020285)\n",
      "topic_8\n",
      "> #1. police (0.059530)\n",
      "> #2. say (0.058585)\n",
      "> #3. officer (0.040635)\n",
      "topic_9\n",
      "> #1. germany (0.076404)\n",
      "> #2. attack (0.054579)\n",
      "> #3. german (0.035871)\n",
      "topic_10\n",
      "> #1. say (0.067442)\n",
      "> #2. would (0.050696)\n",
      "> #3. leader (0.028518)\n"
     ]
    }
   ],
   "source": [
    "model_bg = models['bigger'][0][1]\n",
    "print_ldamodel_topic_words(model_bg.topic_word_, vocab_bg, top_n=3)"
   ]
  },
  {
   "cell_type": "markdown",
   "metadata": {},
   "source": [
    "for single dtm, varying n_iter -> model convergence"
   ]
  },
  {
   "cell_type": "code",
   "execution_count": 15,
   "metadata": {},
   "outputs": [
    {
     "data": {
      "text/plain": [
       "[({'n_iter': 300, 'n_topics': 10}, <lda.lda.LDA at 0x7fd079f93e80>),\n",
       " ({'n_iter': 600, 'n_topics': 10}, <lda.lda.LDA at 0x7fd079f93b38>),\n",
       " ({'n_iter': 900, 'n_topics': 10}, <lda.lda.LDA at 0x7fd079f93e48>),\n",
       " ({'n_iter': 1200, 'n_topics': 10}, <lda.lda.LDA at 0x7fd079f93ef0>)]"
      ]
     },
     "execution_count": 15,
     "metadata": {},
     "output_type": "execute_result"
    }
   ],
   "source": [
    "var_params = [{'n_iter': n_iter} for n_iter in range(300, 1201, 300)]\n",
    "models = compute_models_parallel(dtms['bigger'],\n",
    "                                 varying_parameters=var_params,\n",
    "                                 constant_parameters={'n_topics': 10})\n",
    "models"
   ]
  },
  {
   "cell_type": "code",
   "execution_count": 21,
   "metadata": {},
   "outputs": [
    {
     "data": {
      "text/plain": [
       "[('n_iter=300',\n",
       "  array([ 60,  70,  80,  90, 100, 110, 120, 130, 140, 150, 160, 170, 180,\n",
       "         190, 200, 210, 220, 230, 240, 250, 260, 270, 280, 290, 300]),\n",
       "  [-126221.3092732494,\n",
       "   -126209.54164079188,\n",
       "   -125856.04074366206,\n",
       "   -125537.57378226885,\n",
       "   -125048.92719787452,\n",
       "   -124703.38619306382,\n",
       "   -124783.12447542464,\n",
       "   -124401.58361490721,\n",
       "   -124885.94471944685,\n",
       "   -124403.37695975736,\n",
       "   -124379.13813707665,\n",
       "   -124271.9198903494,\n",
       "   -124209.66060190205,\n",
       "   -124060.52157599853,\n",
       "   -123995.85096277964,\n",
       "   -124234.57400053911,\n",
       "   -124002.34639530302,\n",
       "   -124001.35774014355,\n",
       "   -124087.59472461158,\n",
       "   -124188.61466274738,\n",
       "   -123994.36894149019,\n",
       "   -124214.4119831674,\n",
       "   -124023.08166499861,\n",
       "   -123966.67585026126,\n",
       "   -123977.16540213957]),\n",
       " ('n_iter=600',\n",
       "  array([ 60,  70,  80,  90, 100, 110, 120, 130, 140, 150, 160, 170, 180,\n",
       "         190, 200, 210, 220, 230, 240, 250, 260, 270, 280, 290, 300, 310,\n",
       "         320, 330, 340, 350, 360, 370, 380, 390, 400, 410, 420, 430, 440,\n",
       "         450, 460, 470, 480, 490, 500, 510, 520, 530, 540, 550, 560, 570,\n",
       "         580, 590, 600]),\n",
       "  [-126221.3092732494,\n",
       "   -126209.54164079188,\n",
       "   -125856.04074366206,\n",
       "   -125537.57378226885,\n",
       "   -125048.92719787452,\n",
       "   -124703.38619306382,\n",
       "   -124783.12447542464,\n",
       "   -124401.58361490721,\n",
       "   -124885.94471944685,\n",
       "   -124403.37695975736,\n",
       "   -124379.13813707665,\n",
       "   -124271.9198903494,\n",
       "   -124209.66060190205,\n",
       "   -124060.52157599853,\n",
       "   -123995.85096277964,\n",
       "   -124234.57400053911,\n",
       "   -124002.34639530302,\n",
       "   -124001.35774014355,\n",
       "   -124087.59472461158,\n",
       "   -124188.61466274738,\n",
       "   -123994.36894149019,\n",
       "   -124214.4119831674,\n",
       "   -124023.08166499861,\n",
       "   -123966.67585026126,\n",
       "   -123977.16540213957,\n",
       "   -124250.14911814523,\n",
       "   -124082.02661403698,\n",
       "   -123937.29850953049,\n",
       "   -123707.70942992115,\n",
       "   -123965.76300681628,\n",
       "   -124047.01101625136,\n",
       "   -123889.45495042506,\n",
       "   -123920.95621759412,\n",
       "   -123816.1811885299,\n",
       "   -123458.70164728942,\n",
       "   -123392.44574172085,\n",
       "   -123154.91746225166,\n",
       "   -123356.93027480147,\n",
       "   -122929.43299465846,\n",
       "   -123220.04602229592,\n",
       "   -123194.4491469263,\n",
       "   -123435.74887462588,\n",
       "   -123262.00868782336,\n",
       "   -123466.76585007076,\n",
       "   -123035.99629625281,\n",
       "   -123260.93860126506,\n",
       "   -123198.59940259442,\n",
       "   -123228.65962773385,\n",
       "   -123077.85850287245,\n",
       "   -123155.15777061525,\n",
       "   -123125.42662397507,\n",
       "   -122808.01158335982,\n",
       "   -122761.75776729757,\n",
       "   -122850.42507790591,\n",
       "   -122927.66868967355]),\n",
       " ('n_iter=900',\n",
       "  array([ 60,  70,  80,  90, 100, 110, 120, 130, 140, 150, 160, 170, 180,\n",
       "         190, 200, 210, 220, 230, 240, 250, 260, 270, 280, 290, 300, 310,\n",
       "         320, 330, 340, 350, 360, 370, 380, 390, 400, 410, 420, 430, 440,\n",
       "         450, 460, 470, 480, 490, 500, 510, 520, 530, 540, 550, 560, 570,\n",
       "         580, 590, 600, 610, 620, 630, 640, 650, 660, 670, 680, 690, 700,\n",
       "         710, 720, 730, 740, 750, 760, 770, 780, 790, 800, 810, 820, 830,\n",
       "         840, 850, 860, 870, 880, 890, 900]),\n",
       "  [-126221.3092732494,\n",
       "   -126209.54164079188,\n",
       "   -125856.04074366206,\n",
       "   -125537.57378226885,\n",
       "   -125048.92719787452,\n",
       "   -124703.38619306382,\n",
       "   -124783.12447542464,\n",
       "   -124401.58361490721,\n",
       "   -124885.94471944685,\n",
       "   -124403.37695975736,\n",
       "   -124379.13813707665,\n",
       "   -124271.9198903494,\n",
       "   -124209.66060190205,\n",
       "   -124060.52157599853,\n",
       "   -123995.85096277964,\n",
       "   -124234.57400053911,\n",
       "   -124002.34639530302,\n",
       "   -124001.35774014355,\n",
       "   -124087.59472461158,\n",
       "   -124188.61466274738,\n",
       "   -123994.36894149019,\n",
       "   -124214.4119831674,\n",
       "   -124023.08166499861,\n",
       "   -123966.67585026126,\n",
       "   -123977.16540213957,\n",
       "   -124250.14911814523,\n",
       "   -124082.02661403698,\n",
       "   -123937.29850953049,\n",
       "   -123707.70942992115,\n",
       "   -123965.76300681628,\n",
       "   -124047.01101625136,\n",
       "   -123889.45495042506,\n",
       "   -123920.95621759412,\n",
       "   -123816.1811885299,\n",
       "   -123458.70164728942,\n",
       "   -123392.44574172085,\n",
       "   -123154.91746225166,\n",
       "   -123356.93027480147,\n",
       "   -122929.43299465846,\n",
       "   -123220.04602229592,\n",
       "   -123194.4491469263,\n",
       "   -123435.74887462588,\n",
       "   -123262.00868782336,\n",
       "   -123466.76585007076,\n",
       "   -123035.99629625281,\n",
       "   -123260.93860126506,\n",
       "   -123198.59940259442,\n",
       "   -123228.65962773385,\n",
       "   -123077.85850287245,\n",
       "   -123155.15777061525,\n",
       "   -123125.42662397507,\n",
       "   -122808.01158335982,\n",
       "   -122761.75776729757,\n",
       "   -122850.42507790591,\n",
       "   -122927.66868967355,\n",
       "   -122744.37531011074,\n",
       "   -122761.52964616117,\n",
       "   -122894.54107097417,\n",
       "   -123024.73750481474,\n",
       "   -122670.58726859337,\n",
       "   -122788.39363439509,\n",
       "   -122612.82978301829,\n",
       "   -122778.82277468943,\n",
       "   -122727.20058179411,\n",
       "   -122808.54925415806,\n",
       "   -122791.805696064,\n",
       "   -123275.62261458872,\n",
       "   -122869.38748912593,\n",
       "   -123012.54189595558,\n",
       "   -122979.97411421302,\n",
       "   -123082.87654315519,\n",
       "   -123089.94887689641,\n",
       "   -123221.31384325266,\n",
       "   -123393.55657920771,\n",
       "   -123282.4546034455,\n",
       "   -123132.49738027251,\n",
       "   -123039.84566006543,\n",
       "   -123140.0612513573,\n",
       "   -123091.28614153118,\n",
       "   -123061.2997893414,\n",
       "   -123292.31206511524,\n",
       "   -123060.1681970047,\n",
       "   -122974.75370671212,\n",
       "   -123232.04390129601,\n",
       "   -123299.02668768073]),\n",
       " ('n_iter=1200',\n",
       "  array([  60,   70,   80,   90,  100,  110,  120,  130,  140,  150,  160,\n",
       "          170,  180,  190,  200,  210,  220,  230,  240,  250,  260,  270,\n",
       "          280,  290,  300,  310,  320,  330,  340,  350,  360,  370,  380,\n",
       "          390,  400,  410,  420,  430,  440,  450,  460,  470,  480,  490,\n",
       "          500,  510,  520,  530,  540,  550,  560,  570,  580,  590,  600,\n",
       "          610,  620,  630,  640,  650,  660,  670,  680,  690,  700,  710,\n",
       "          720,  730,  740,  750,  760,  770,  780,  790,  800,  810,  820,\n",
       "          830,  840,  850,  860,  870,  880,  890,  900,  910,  920,  930,\n",
       "          940,  950,  960,  970,  980,  990, 1000, 1010, 1020, 1030, 1040,\n",
       "         1050, 1060, 1070, 1080, 1090, 1100, 1110, 1120, 1130, 1140, 1150,\n",
       "         1160, 1170, 1180, 1190, 1200]),\n",
       "  [-126221.3092732494,\n",
       "   -126209.54164079188,\n",
       "   -125856.04074366206,\n",
       "   -125537.57378226885,\n",
       "   -125048.92719787452,\n",
       "   -124703.38619306382,\n",
       "   -124783.12447542464,\n",
       "   -124401.58361490721,\n",
       "   -124885.94471944685,\n",
       "   -124403.37695975736,\n",
       "   -124379.13813707665,\n",
       "   -124271.9198903494,\n",
       "   -124209.66060190205,\n",
       "   -124060.52157599853,\n",
       "   -123995.85096277964,\n",
       "   -124234.57400053911,\n",
       "   -124002.34639530302,\n",
       "   -124001.35774014355,\n",
       "   -124087.59472461158,\n",
       "   -124188.61466274738,\n",
       "   -123994.36894149019,\n",
       "   -124214.4119831674,\n",
       "   -124023.08166499861,\n",
       "   -123966.67585026126,\n",
       "   -123977.16540213957,\n",
       "   -124250.14911814523,\n",
       "   -124082.02661403698,\n",
       "   -123937.29850953049,\n",
       "   -123707.70942992115,\n",
       "   -123965.76300681628,\n",
       "   -124047.01101625136,\n",
       "   -123889.45495042506,\n",
       "   -123920.95621759412,\n",
       "   -123816.1811885299,\n",
       "   -123458.70164728942,\n",
       "   -123392.44574172085,\n",
       "   -123154.91746225166,\n",
       "   -123356.93027480147,\n",
       "   -122929.43299465846,\n",
       "   -123220.04602229592,\n",
       "   -123194.4491469263,\n",
       "   -123435.74887462588,\n",
       "   -123262.00868782336,\n",
       "   -123466.76585007076,\n",
       "   -123035.99629625281,\n",
       "   -123260.93860126506,\n",
       "   -123198.59940259442,\n",
       "   -123228.65962773385,\n",
       "   -123077.85850287245,\n",
       "   -123155.15777061525,\n",
       "   -123125.42662397507,\n",
       "   -122808.01158335982,\n",
       "   -122761.75776729757,\n",
       "   -122850.42507790591,\n",
       "   -122927.66868967355,\n",
       "   -122744.37531011074,\n",
       "   -122761.52964616117,\n",
       "   -122894.54107097417,\n",
       "   -123024.73750481474,\n",
       "   -122670.58726859337,\n",
       "   -122788.39363439509,\n",
       "   -122612.82978301829,\n",
       "   -122778.82277468943,\n",
       "   -122727.20058179411,\n",
       "   -122808.54925415806,\n",
       "   -122791.805696064,\n",
       "   -123275.62261458872,\n",
       "   -122869.38748912593,\n",
       "   -123012.54189595558,\n",
       "   -122979.97411421302,\n",
       "   -123082.87654315519,\n",
       "   -123089.94887689641,\n",
       "   -123221.31384325266,\n",
       "   -123393.55657920771,\n",
       "   -123282.4546034455,\n",
       "   -123132.49738027251,\n",
       "   -123039.84566006543,\n",
       "   -123140.0612513573,\n",
       "   -123091.28614153118,\n",
       "   -123061.2997893414,\n",
       "   -123292.31206511524,\n",
       "   -123060.1681970047,\n",
       "   -122974.75370671212,\n",
       "   -123232.04390129601,\n",
       "   -123299.02668768073,\n",
       "   -123192.62961146596,\n",
       "   -123024.7320345938,\n",
       "   -122722.8020911356,\n",
       "   -123372.17487821067,\n",
       "   -122945.59438603198,\n",
       "   -123106.88427469983,\n",
       "   -123001.57181163889,\n",
       "   -122920.91417012402,\n",
       "   -122973.19359165657,\n",
       "   -122863.23564215974,\n",
       "   -122722.33884936565,\n",
       "   -122946.28234356077,\n",
       "   -122887.21255435367,\n",
       "   -122729.84407944341,\n",
       "   -122683.55593309003,\n",
       "   -122810.56602937175,\n",
       "   -122946.76025508321,\n",
       "   -122977.52725735636,\n",
       "   -123145.21140324292,\n",
       "   -123077.86697875777,\n",
       "   -123049.64954152037,\n",
       "   -123189.20990215207,\n",
       "   -123157.84711439109,\n",
       "   -122918.83350042181,\n",
       "   -123135.78013379632,\n",
       "   -123000.62023658854,\n",
       "   -123021.92659867943,\n",
       "   -123075.86397581437,\n",
       "   -122995.43782722994,\n",
       "   -123033.72654458034])]"
      ]
     },
     "execution_count": 21,
     "metadata": {},
     "output_type": "execute_result"
    }
   ],
   "source": [
    "model_logliks = []\n",
    "skip_first = 5\n",
    "for params, m in models:\n",
    "    label = 'n_iter=' + str(params['n_iter'])\n",
    "    ll = m.loglikelihoods_[skip_first:]   # TODO: check skip_first\n",
    "    iters = np.arange((skip_first + 1) * m.refresh, len(m.loglikelihoods_) * m.refresh + 1, m.refresh)\n",
    "    model_logliks.append((label, iters, ll))\n",
    "model_logliks"
   ]
  },
  {
   "cell_type": "code",
   "execution_count": 22,
   "metadata": {},
   "outputs": [
    {
     "data": {
      "image/png": "[encoded data removed]",
      "text/plain": [
       "<Figure size 576x576 with 4 Axes>"
      ]
     },
     "metadata": {
      "needs_background": "light"
     },
     "output_type": "display_data"
    }
   ],
   "source": [
    "import matplotlib.pyplot as plt\n",
    "\n",
    "subplots_opts = None\n",
    "subplots_adjust_opts = None\n",
    "fig_kwargs = {}\n",
    "title = 'models'\n",
    "xaxislabel = 'iterations'\n",
    "yaxislabel = 'log likelihood'\n",
    "title_fontsize='x-large'\n",
    "axes_title_fontsize = 'large'\n",
    "\n",
    "n_models = len(model_logliks)\n",
    "figsize = figsize = (8, 2*n_models)\n",
    "\n",
    "subplots_kwargs = dict(nrows=n_models, ncols=1, sharex=True, constrained_layout=True, figsize=figsize)\n",
    "subplots_kwargs.update(subplots_opts or {})\n",
    "subplots_kwargs.update(fig_kwargs)\n",
    "\n",
    "fig, axes = plt.subplots(**subplots_kwargs)\n",
    "\n",
    "# set title\n",
    "if title:\n",
    "    fig.suptitle(title, fontsize=title_fontsize)\n",
    "\n",
    "# set adjustments\n",
    "if title:\n",
    "    subplots_adjust_kwargs = dict(top=0.9, hspace=0.3)\n",
    "else:\n",
    "    subplots_adjust_kwargs = {}\n",
    "\n",
    "subplots_adjust_kwargs.update(subplots_adjust_opts or {})\n",
    "\n",
    "if subplots_adjust_kwargs:\n",
    "    fig.subplots_adjust(**subplots_adjust_kwargs)\n",
    "\n",
    "for i, (ax, (subplot_lbl, iters, ll)) in enumerate(zip(axes, model_logliks)):\n",
    "    ax.plot(iters, ll, label=subplot_lbl)\n",
    "    \n",
    "    ax.set_title(subplot_lbl, fontsize=axes_title_fontsize)\n",
    "\n",
    "    # set axis labels\n",
    "    if xaxislabel and i == n_models-1:\n",
    "        ax.set_xlabel(xaxislabel)\n",
    "    if yaxislabel:\n",
    "        ax.set_ylabel(yaxislabel)\n",
    "\n",
    "fig.show()"
   ]
  },
  {
   "cell_type": "code",
   "execution_count": null,
   "metadata": {},
   "outputs": [],
   "source": []
  }
 ],
 "metadata": {
  "kernelspec": {
   "display_name": "Python 3",
   "language": "python",
   "name": "python3"
  },
  "language_info": {
   "codemirror_mode": {
    "name": "ipython",
    "version": 3
   },
   "file_extension": ".py",
   "mimetype": "text/x-python",
   "name": "python",
   "nbconvert_exporter": "python",
   "pygments_lexer": "ipython3",
   "version": "3.6.7"
  }
 },
 "nbformat": 4,
 "nbformat_minor": 2
}
