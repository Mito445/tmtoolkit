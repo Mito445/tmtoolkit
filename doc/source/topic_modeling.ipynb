{
 "cells": [
  {
   "cell_type": "markdown",
   "metadata": {},
   "source": [
    "# Topic modeling\n",
    "\n",
    "The [topicmod module](api.rst#module-tmtoolkit.topicmod) offers a wide range of tools to facilitate [topic modeling](https://cacm.acm.org/magazines/2012/4/147361-probabilistic-topic-models/fulltext) with Python. This chapter will introduce the following techniques: \n",
    "\n",
    "TODO (link this)\n",
    "\n",
    "- [parallel topic model computation for different copora and/or parameter sets](#Computing-topic-models-in-parallel)\n",
    "- [evaluation of topic models (including finding a good number of topics for the given dataset)](#Evaluation-of-topic-models)\n",
    "- common statistics for topic models\n",
    "- export of topic models and summaries to different file formats\n",
    "- visualization of topic models\n",
    "\n",
    "A quick note on terminology: So far, we spoke about *tokens* or sometimes *terms* when we meant the individual elements that our documents consist of after we applied text preprocessing such as *tokenization* to the raw input text strings. These tokens can be lexicographically correct words, but they don't have to, e.g. when you applied stemming you might have tokens like \"argu\" in your vocabulary. There may also be numbers or punctuation symbols in your vocabulary. For many traditional topic modeling techniques, the results are usually two probability distributions: a *document-topic distribution* and a *topic-word distribution*. Since the latter is called topic-*word* and not topic-*token* or *-term* distribution, we will also use the term *word* when we mean any token from the corpus' vocabulary.\n",
    "\n",
    "\n",
    "## An example document-term matrix\n",
    "\n",
    "tmtoolkit supports topic models that are computed from document-term matrices (DTMs). Just as in the previous chapter, we will at first generate a DTM. However, this time the sample will be bigger:"
   ]
  },
  {
   "cell_type": "code",
   "execution_count": 1,
   "metadata": {},
   "outputs": [],
   "source": [
    "import random\n",
    "random.seed(20191120)   # to make the sampling reproducible\n",
    "\n",
    "import numpy as np\n",
    "np.set_printoptions(precision=5)\n",
    "\n",
    "from tmtoolkit.corpus import Corpus\n",
    "\n",
    "corpus = Corpus.from_builtin_corpus('english-NewsArticles').sample(100)"
   ]
  },
  {
   "cell_type": "markdown",
   "metadata": {},
   "source": [
    "We will also now generate two DTMs, because we later want to show how you can compute topic models for two different DTMs in parallel. At first, we to some general preprocessing:"
   ]
  },
  {
   "cell_type": "code",
   "execution_count": 2,
   "metadata": {},
   "outputs": [
    {
     "data": {
      "text/plain": [
       "<TMPreproc [100 documents]>"
      ]
     },
     "execution_count": 2,
     "metadata": {},
     "output_type": "execute_result"
    }
   ],
   "source": [
    "from tmtoolkit.preprocess import TMPreproc\n",
    "\n",
    "preproc = TMPreproc(corpus)\n",
    "preproc.pos_tag() \\\n",
    "    .lemmatize() \\\n",
    "    .tokens_to_lowercase() \\\n",
    "    .remove_special_chars_in_tokens()"
   ]
  },
  {
   "cell_type": "markdown",
   "metadata": {},
   "source": [
    "Now we at first apply more \"relaxed\" cleaning:"
   ]
  },
  {
   "cell_type": "code",
   "execution_count": 3,
   "metadata": {},
   "outputs": [
    {
     "data": {
      "text/plain": [
       "(100, 841)"
      ]
     },
     "execution_count": 3,
     "metadata": {},
     "output_type": "execute_result"
    }
   ],
   "source": [
    "preproc_bigger = preproc.copy() \\\n",
    "    .add_stopwords(['would', 'could', 'mr', 'mrs', 'also']) \\\n",
    "    .clean_tokens(remove_shorter_than=2) \\\n",
    "    .remove_common_tokens(df_threshold=0.85) \\\n",
    "    .remove_uncommon_tokens(df_threshold=0.05)\n",
    "\n",
    "preproc_bigger.n_docs, preproc_bigger.vocabulary_size"
   ]
  },
  {
   "cell_type": "markdown",
   "metadata": {},
   "source": [
    "Another copy of `preproc` will apply more aggressive cleaning and hence in a smaller vocabulary size:"
   ]
  },
  {
   "cell_type": "code",
   "execution_count": 4,
   "metadata": {},
   "outputs": [
    {
     "data": {
      "text/plain": [
       "(100, 149)"
      ]
     },
     "execution_count": 4,
     "metadata": {},
     "output_type": "execute_result"
    }
   ],
   "source": [
    "preproc_smaller = preproc.copy() \\\n",
    "    .filter_for_pos('N') \\\n",
    "    .clean_tokens(remove_numbers=True, remove_shorter_than=2) \\\n",
    "    .remove_common_tokens(df_threshold=0.9) \\\n",
    "    .remove_uncommon_tokens(df_threshold=0.1)\n",
    "\n",
    "del preproc\n",
    "\n",
    "preproc_smaller.n_docs, preproc_smaller.vocabulary_size"
   ]
  },
  {
   "cell_type": "markdown",
   "metadata": {},
   "source": [
    "We will create the document labels, vocabulary arrays and DTMs for both versions now:"
   ]
  },
  {
   "cell_type": "code",
   "execution_count": 5,
   "metadata": {},
   "outputs": [
    {
     "data": {
      "text/plain": [
       "array(['NewsArticles-1032', 'NewsArticles-1036', 'NewsArticles-104',\n",
       "       'NewsArticles-1043', 'NewsArticles-1048', 'NewsArticles-1090',\n",
       "       'NewsArticles-1126', 'NewsArticles-113', 'NewsArticles-1137',\n",
       "       'NewsArticles-1141'], dtype='<U17')"
      ]
     },
     "execution_count": 5,
     "metadata": {},
     "output_type": "execute_result"
    }
   ],
   "source": [
    "# doc_labels are the same for both\n",
    "\n",
    "doc_labels = np.array(preproc_bigger.doc_labels)\n",
    "doc_labels[:10]"
   ]
  },
  {
   "cell_type": "code",
   "execution_count": 6,
   "metadata": {},
   "outputs": [],
   "source": [
    "vocab_bg = np.array(preproc_bigger.vocabulary)\n",
    "vocab_sm = np.array(preproc_smaller.vocabulary) "
   ]
  },
  {
   "cell_type": "code",
   "execution_count": 7,
   "metadata": {},
   "outputs": [
    {
     "data": {
      "text/plain": [
       "(<100x841 sparse matrix of type '<class 'numpy.int32'>'\n",
       " \twith 10116 stored elements in Compressed Sparse Row format>,\n",
       " <100x149 sparse matrix of type '<class 'numpy.int32'>'\n",
       " \twith 2482 stored elements in Compressed Sparse Row format>)"
      ]
     },
     "execution_count": 7,
     "metadata": {},
     "output_type": "execute_result"
    }
   ],
   "source": [
    "dtm_bg = preproc_bigger.dtm\n",
    "dtm_sm = preproc_smaller.dtm\n",
    "\n",
    "del preproc_bigger, preproc_smaller  # don't need these any more\n",
    "\n",
    "dtm_bg, dtm_sm"
   ]
  },
  {
   "cell_type": "markdown",
   "metadata": {},
   "source": [
    "We now have two sparse DTMs `dtm_bg` (from the bigger preprocessed data) and `dtm_sm` (from the smaller preprocessed data), a list of document labels `doc_labels` that represent the rows of both DTMs and vocabulary arrays `vocab_bg` and `vocab_sm` that represent the columns of the respective DTMs. We will use this data for the remainder of the chapter."
   ]
  },
  {
   "cell_type": "markdown",
   "metadata": {},
   "source": [
    "## Computing topic models in parallel\n",
    "\n",
    "tmtoolkit allows to compute topic models in parallel, making use of all processor cores in your machine. Parallelization can be done per input DTM, per hyperparameter set and as combination of both. Hyperparameters control the number of topics and their \"granularity\". We will later have a look at the role of hyperparameters and how to find an optimal combination for a given dataset with the means of topic model evaluation.\n",
    "\n",
    "For now, we will concentrate on computing the topic models for both of our two DTMs in parallel. tmtoolkit supports three very popular packages for topic modeling, which provide the work of actually computing the model from the input matrix. They can all be accessed in separate sub-modules of the [topicmod module](api.rst#module-tmtoolkit.topicmod):\n",
    "\n",
    "- [topicmod.tm_lda](api.html#module-tmtoolkit.topicmod.tm_lda) provides an interface for the [lda](https://lda.readthedocs.io/en/latest/) package\n",
    "- [topicmod.tm_sklearn](api.html#module-tmtoolkit.topicmod.tm_sklearn) provides an interface for the [scikit-learn](http://scikit-learn.org/stable/modules/generated/sklearn.decomposition.LatentDirichletAllocation.html) package\n",
    "- [topicmod.tm_gensim](api.html#module-tmtoolkit.topicmod.tm_gensim) provides an interface for the [Gensim](https://radimrehurek.com/gensim/) package\n",
    "\n",
    "Each of these sub-modules offer at least two functions that work with the respective package: `compute_models_parallel()` for general parallel model computation and `evaluate_topic_models()` for parallel model computation and evaluation (discussed later). For now, we want to compute two models in parallel with the [lda](https://lda.readthedocs.io/en/latest/) package and hence use [compute_models_parallel()](api.rst#tmtoolkit.topicmod.tm_lda.compute_models_parallel) from [topicmod.tm_lda](api.html#module-tmtoolkit.topicmod.tm_lda).\n",
    "\n",
    "We need to provide two things for this function: First, the input matrices as a dict that maps labels to the respective DTMs. Second, hyperparameters to use for the model computations. Note that each topic modeling package has different hyperparameters and you should refer to their documentation in order to find out, which hyperparameters you can provide. For lda, we set the number of topics `n_topics` to 10 and the number of iterations for the Gibbs sampling process `n_iter` to 1000. We always want to use the same hyperparameters, so we pass these as `constant_parameters`. If we wanted to create models for a whole range of parameters, e.g. for different numbers of topics, we could provide `varying_parameters`. We will check this out later when we evaluate topic models.\n",
    "\n",
    "<div class=\"alert alert-info\">\n",
    "    \n",
    "Note that for proper topic modeling, we shouldn't just set the number of topics, but try to find it out via evaluation methods. We should also check if the algorithm converged using the provided likelihood estimations. We will do both later on, but now focus on `compute_models_parallel()`.\n",
    "\n",
    "</div>"
   ]
  },
  {
   "cell_type": "code",
   "execution_count": 8,
   "metadata": {},
   "outputs": [
    {
     "data": {
      "text/plain": [
       "defaultdict(list,\n",
       "            {'smaller': [({'n_topics': 10,\n",
       "                'n_iter': 1000,\n",
       "                'random_state': 20191122},\n",
       "               <lda.lda.LDA at 0x7fd3fed8fdd8>)],\n",
       "             'bigger': [({'n_topics': 10,\n",
       "                'n_iter': 1000,\n",
       "                'random_state': 20191122},\n",
       "               <lda.lda.LDA at 0x7fd3fed8fe80>)]})"
      ]
     },
     "execution_count": 8,
     "metadata": {},
     "output_type": "execute_result"
    }
   ],
   "source": [
    "import logging\n",
    "import warnings\n",
    "from tmtoolkit.topicmod.tm_lda import compute_models_parallel\n",
    "\n",
    "# suppress the \"INFO\" messages and warnings from lda\n",
    "logger = logging.getLogger('lda')\n",
    "logger.addHandler(logging.NullHandler())\n",
    "logger.propagate = False\n",
    "\n",
    "warnings.filterwarnings('ignore')\n",
    "\n",
    "# set data to use\n",
    "dtms = {\n",
    "    'bigger': dtm_bg,\n",
    "    'smaller': dtm_sm\n",
    "}\n",
    "\n",
    "# and fixed hyperparameters\n",
    "lda_params = {\n",
    "    'n_topics': 10,\n",
    "    'n_iter': 1000,\n",
    "    'random_state': 20191122  # to make results reproducible\n",
    "}\n",
    "\n",
    "models = compute_models_parallel(dtms, constant_parameters=lda_params)\n",
    "models"
   ]
  },
  {
   "cell_type": "markdown",
   "metadata": {},
   "source": [
    "As expected, two models were created. These can be accessed via the labels that we used to define the `dtm` dict:"
   ]
  },
  {
   "cell_type": "code",
   "execution_count": 9,
   "metadata": {},
   "outputs": [
    {
     "data": {
      "text/plain": [
       "[({'n_topics': 10, 'n_iter': 1000, 'random_state': 20191122},\n",
       "  <lda.lda.LDA at 0x7fd3fed8fdd8>)]"
      ]
     },
     "execution_count": 9,
     "metadata": {},
     "output_type": "execute_result"
    }
   ],
   "source": [
    "models['smaller']"
   ]
  },
  {
   "cell_type": "markdown",
   "metadata": {},
   "source": [
    "We can see that for each input DTM, we get a list of 2-tuples. The first element in each tuple is a dict that represents the hyperparameters that were used to compute the model, the second element is actual topic model (the `<lda.lda.LDA ...>` object). This structure looks a bit complex, but this is because it also supports varying parameters. Since we only have one fixed set of hyperparameters per DTM, we only have a list of length 1 for each DTM.\n",
    "\n",
    "We will now access the models and print the top words per topic by using [print_ldamodel_topic_words()](api.rst#tmtoolkit.topicmod.model_io.print_ldamodel_topic_words):"
   ]
  },
  {
   "cell_type": "code",
   "execution_count": 10,
   "metadata": {},
   "outputs": [
    {
     "name": "stdout",
     "output_type": "stream",
     "text": [
      "topic_1\n",
      "> #1. china (0.227017)\n",
      "> #2. company (0.138742)\n",
      "> #3. market (0.116043)\n",
      "topic_2\n",
      "> #1. election (0.149207)\n",
      "> #2. mr (0.146679)\n",
      "> #3. office (0.065767)\n",
      "topic_3\n",
      "> #1. report (0.111649)\n",
      "> #2. minister (0.072578)\n",
      "> #3. president (0.063276)\n",
      "topic_4\n",
      "> #1. percent (0.165212)\n",
      "> #2. information (0.096987)\n",
      "> #3. way (0.086215)\n",
      "topic_5\n",
      "> #1. police (0.085834)\n",
      "> #2. attack (0.062561)\n",
      "> #3. people (0.049470)\n",
      "topic_6\n",
      "> #1. us (0.102239)\n",
      "> #2. russia (0.088738)\n",
      "> #3. syria (0.071380)\n",
      "topic_7\n",
      "> #1. trump (0.198323)\n",
      "> #2. house (0.109558)\n",
      "> #3. president (0.096338)\n",
      "topic_8\n",
      "> #1. year (0.118300)\n",
      "> #2. people (0.098987)\n",
      "> #3. time (0.088124)\n",
      "topic_9\n",
      "> #1. party (0.122813)\n",
      "> #2. germany (0.115729)\n",
      "> #3. leader (0.077948)\n",
      "topic_10\n",
      "> #1. country (0.204228)\n",
      "> #2. world (0.120143)\n",
      "> #3. people (0.094116)\n"
     ]
    }
   ],
   "source": [
    "from tmtoolkit.topicmod.model_io import print_ldamodel_topic_words\n",
    "\n",
    "model_sm = models['smaller'][0][1]\n",
    "print_ldamodel_topic_words(model_sm.topic_word_, vocab_sm, top_n=3)"
   ]
  },
  {
   "cell_type": "code",
   "execution_count": 11,
   "metadata": {},
   "outputs": [
    {
     "name": "stdout",
     "output_type": "stream",
     "text": [
      "topic_1\n",
      "> #1. country (0.057972)\n",
      "> #2. people (0.043669)\n",
      "> #3. american (0.033883)\n",
      "topic_2\n",
      "> #1. leave (0.023419)\n",
      "> #2. government (0.020610)\n",
      "> #3. support (0.020141)\n",
      "topic_3\n",
      "> #1. police (0.037319)\n",
      "> #2. report (0.031989)\n",
      "> #3. attack (0.029027)\n",
      "topic_4\n",
      "> #1. russian (0.061027)\n",
      "> #2. russia (0.049933)\n",
      "> #3. force (0.042167)\n",
      "topic_5\n",
      "> #1. first (0.048892)\n",
      "> #2. new (0.035923)\n",
      "> #3. run (0.023952)\n",
      "topic_6\n",
      "> #1. one (0.032946)\n",
      "> #2. year (0.030310)\n",
      "> #3. people (0.026094)\n",
      "topic_7\n",
      "> #1. china (0.060271)\n",
      "> #2. company (0.045540)\n",
      "> #3. market (0.030809)\n",
      "topic_8\n",
      "> #1. trump (0.071561)\n",
      "> #2. president (0.057932)\n",
      "> #3. house (0.036806)\n",
      "topic_9\n",
      "> #1. election (0.057945)\n",
      "> #2. party (0.056106)\n",
      "> #3. vote (0.045990)\n",
      "topic_10\n",
      "> #1. get (0.027070)\n",
      "> #2. day (0.023089)\n",
      "> #3. make (0.022691)\n"
     ]
    }
   ],
   "source": [
    "model_bg = models['bigger'][0][1]\n",
    "print_ldamodel_topic_words(model_bg.topic_word_, vocab_bg, top_n=3)"
   ]
  },
  {
   "cell_type": "markdown",
   "metadata": {},
   "source": [
    "We could also generate models from different parameters in parallel, either for a single DTM or several. In the following example we generate models for a series of four different values for the `alpha` parameter. The parameters `n_iter` and `n_topics` are held constant across all models."
   ]
  },
  {
   "cell_type": "code",
   "execution_count": 12,
   "metadata": {},
   "outputs": [
    {
     "data": {
      "text/plain": [
       "[({'alpha': 0.01, 'n_iter': 500, 'n_topics': 10, 'random_state': 20191122},\n",
       "  <lda.lda.LDA at 0x7fd3fed8fe48>),\n",
       " ({'alpha': 0.0001, 'n_iter': 500, 'n_topics': 10, 'random_state': 20191122},\n",
       "  <lda.lda.LDA at 0x7fd3fed83f28>),\n",
       " ({'alpha': 0.001, 'n_iter': 500, 'n_topics': 10, 'random_state': 20191122},\n",
       "  <lda.lda.LDA at 0x7fd3fed7f2e8>),\n",
       " ({'alpha': 0.1, 'n_iter': 500, 'n_topics': 10, 'random_state': 20191122},\n",
       "  <lda.lda.LDA at 0x7fd3fc265278>)]"
      ]
     },
     "execution_count": 12,
     "metadata": {},
     "output_type": "execute_result"
    }
   ],
   "source": [
    "var_params = [{'alpha': 1/(10**x)} for x in range(1, 5)]\n",
    "\n",
    "const_params = {\n",
    "    'n_iter': 500,\n",
    "    'n_topics': 10,\n",
    "    'random_state': 20191122  # to make results reproducible\n",
    "}\n",
    "\n",
    "models = compute_models_parallel(dtm_sm,  # smaller DTM\n",
    "                                 varying_parameters=var_params,\n",
    "                                 constant_parameters=const_params)\n",
    "models"
   ]
  },
  {
   "cell_type": "markdown",
   "metadata": {},
   "source": [
    "We could compare these models now, e.g. by investigating their topics.\n",
    "\n",
    "A more systematic approach on comparing and evaluating topic models, also in order to find an good set of hyperparameters for a given dataset, will be presented in the next section.\n",
    "\n",
    "## Evaluation of topic models\n",
    "\n",
    "tmtoolkit provides several metrics for comparing and evaluating topic models. This can be used for finding a good hyperparameter set for a given dataset, e.g. a good combination of the number of topics and concentration paramaters (often called alpha and beta in literature). For some background on hyperparameters in topic modeling, see [this blog post](https://datascience.blog.wzb.eu/2017/11/09/topic-modeling-evaluation-in-python-with-tmtoolkit/).\n",
    "\n",
    "For each candidate hyperparameter set, a model can be generated and evaluated in parallel. We will do this now for the \"big\" DTM `dtm_bg`. Our candidate values for the number of topics `k` range between 20 and 120, with steps of 10. We make the concentration parameter for a prior over the document-specific topic distributions, alpha, depending on `k` as `1/k`:"
   ]
  },
  {
   "cell_type": "code",
   "execution_count": 13,
   "metadata": {
    "scrolled": true
   },
   "outputs": [
    {
     "data": {
      "text/plain": [
       "[{'n_topics': 20, 'alpha': 0.05},\n",
       " {'n_topics': 30, 'alpha': 0.03333333333333333},\n",
       " {'n_topics': 40, 'alpha': 0.025},\n",
       " {'n_topics': 50, 'alpha': 0.02},\n",
       " {'n_topics': 60, 'alpha': 0.016666666666666666},\n",
       " {'n_topics': 70, 'alpha': 0.014285714285714285},\n",
       " {'n_topics': 80, 'alpha': 0.0125},\n",
       " {'n_topics': 90, 'alpha': 0.011111111111111112},\n",
       " {'n_topics': 100, 'alpha': 0.01},\n",
       " {'n_topics': 110, 'alpha': 0.00909090909090909},\n",
       " {'n_topics': 120, 'alpha': 0.008333333333333333}]"
      ]
     },
     "execution_count": 13,
     "metadata": {},
     "output_type": "execute_result"
    }
   ],
   "source": [
    "var_params = [{'n_topics': k, 'alpha': 1/k} for k in range(20, 121, 10)]\n",
    "var_params"
   ]
  },
  {
   "cell_type": "markdown",
   "metadata": {},
   "source": [
    "The heart of the model evaluation process is the function [evaluate_topic_models()](api.rst#tmtoolkit.topicmod.tm_lda.evaluate_topic_models), which is available for all three topic modeling packages. We stick with lda and import that function from [topicmod.tm_lda](api.html#module-tmtoolkit.topicmod.tm_lda). It is similar to [compute_models_parallel()](api.rst#tmtoolkit.topicmod.tm_lda.compute_models_parallel) as it accepts varying and constant hyperparameters. However, it doesn't only compute the models in parallel, but also applies several metrics to these models in order to evaluate them. This can be controlled with the `metric` parameter that accepts a string or a list of strings that specify the used metric(s). These metrics refer to functions that are implemented in [topicmod.evaluate](api.rst#module-tmtoolkit.topicmod.evaluate).\n",
    "\n",
    "Each topic modeling sub-module defines two important sequences: `AVAILABLE_METRICS` and `DEFAULT_METRICS`. The former lists all available metrics for that sub-module, the latter lists the default metrics that are used when you don't specify something with the `metric` parameter. Let's have a look at both sequences in [topicmod.tm_lda](api.html#module-tmtoolkit.topicmod.tm_lda):"
   ]
  },
  {
   "cell_type": "code",
   "execution_count": 14,
   "metadata": {},
   "outputs": [
    {
     "data": {
      "text/plain": [
       "('loglikelihood',\n",
       " 'cao_juan_2009',\n",
       " 'arun_2010',\n",
       " 'coherence_mimno_2011',\n",
       " 'griffiths_2004',\n",
       " 'held_out_documents_wallach09',\n",
       " 'coherence_gensim_u_mass',\n",
       " 'coherence_gensim_c_v',\n",
       " 'coherence_gensim_c_uci',\n",
       " 'coherence_gensim_c_npmi')"
      ]
     },
     "execution_count": 14,
     "metadata": {},
     "output_type": "execute_result"
    }
   ],
   "source": [
    "from tmtoolkit.topicmod import tm_lda\n",
    "\n",
    "tm_lda.AVAILABLE_METRICS"
   ]
  },
  {
   "cell_type": "code",
   "execution_count": 15,
   "metadata": {},
   "outputs": [
    {
     "data": {
      "text/plain": [
       "('cao_juan_2009', 'arun_2010', 'coherence_mimno_2011')"
      ]
     },
     "execution_count": 15,
     "metadata": {},
     "output_type": "execute_result"
    }
   ],
   "source": [
    "tm_lda.DEFAULT_METRICS"
   ]
  },
  {
   "cell_type": "markdown",
   "metadata": {},
   "source": [
    "For details about the metrics and the academic references, see the respective implementations in the [topicmod.evaluate](api.rst#module-tmtoolkit.topicmod.evaluate) module.\n",
    "\n",
    "We will now run the model evaluations with [evaluate_topic_models()](api.rst#tmtoolkit.topicmod.tm_lda.evaluate_topic_models) using our previously generated list of varying hyperparameters `var_params`, some constant hyperparameters and the default set of metrics. We also set `return_models=True` which says to retain the generated models in the evaluation results:"
   ]
  },
  {
   "cell_type": "code",
   "execution_count": 16,
   "metadata": {},
   "outputs": [
    {
     "data": {
      "text/plain": [
       "[({'n_topics': 20,\n",
       "   'alpha': 0.05,\n",
       "   'n_iter': 1000,\n",
       "   'eta': 0.1,\n",
       "   'random_state': 20191122},\n",
       "  {'model': <lda.lda.LDA at 0x7fd3fe3f5e80>,\n",
       "   'cao_juan_2009': 0.12558836629807552,\n",
       "   'arun_2010': 7.403579405167859,\n",
       "   'coherence_mimno_2011': -1.4655146068866647}),\n",
       " ({'n_topics': 30,\n",
       "   'alpha': 0.03333333333333333,\n",
       "   'n_iter': 1000,\n",
       "   'eta': 0.1,\n",
       "   'random_state': 20191122},\n",
       "  {'model': <lda.lda.LDA at 0x7fd3fe306898>,\n",
       "   'cao_juan_2009': 0.10850811387586812,\n",
       "   'arun_2010': 4.216179012713291,\n",
       "   'coherence_mimno_2011': -1.6427312298716041}),\n",
       " ({'n_topics': 40,\n",
       "   'alpha': 0.025,\n",
       "   'n_iter': 1000,\n",
       "   'eta': 0.1,\n",
       "   'random_state': 20191122},\n",
       "  {'model': <lda.lda.LDA at 0x7fd3fe3069b0>,\n",
       "   'cao_juan_2009': 0.1102660561003882,\n",
       "   'arun_2010': 3.7261104251741655,\n",
       "   'coherence_mimno_2011': -1.683373430872738})]"
      ]
     },
     "execution_count": 16,
     "metadata": {},
     "output_type": "execute_result"
    }
   ],
   "source": [
    "from tmtoolkit.topicmod.tm_lda import evaluate_topic_models\n",
    "from tmtoolkit.topicmod.evaluate import results_by_parameter\n",
    "\n",
    "const_params = {\n",
    "    'n_iter': 1000,\n",
    "    'eta': 0.1,       # \"eta\" aka \"beta\"\n",
    "    'random_state': 20191122  # to make results reproducible\n",
    "}\n",
    "\n",
    "eval_results = evaluate_topic_models(dtm_bg,\n",
    "                                     varying_parameters=var_params,\n",
    "                                     constant_parameters=const_params,\n",
    "                                     return_models=True)\n",
    "eval_results[:3]  # only show first three models"
   ]
  },
  {
   "cell_type": "markdown",
   "metadata": {},
   "source": [
    "The evaluation results are a list with pairs of hyperparameters and their evaluation results for each metric. Additionally, there is the generated model for each hyperparameter set.\n",
    "\n",
    "We now use [results_by_parameter()](api.rst#tmtoolkit.topicmod.evaluate.results_by_parameter), which takes the \"raw\" evaluation results and sorts them by a specific hyperparameter, in this case `n_topics`. This is important because this is the way that the function for visualizing evaluation results, [plot_eval_results()](api.rst#tmtoolkit.topicmod.visualize.plot_eval_results), expects the input."
   ]
  },
  {
   "cell_type": "code",
   "execution_count": 17,
   "metadata": {},
   "outputs": [
    {
     "data": {
      "text/plain": [
       "[(20,\n",
       "  {'model': <lda.lda.LDA at 0x7fd3fe3f5e80>,\n",
       "   'cao_juan_2009': 0.12558836629807552,\n",
       "   'arun_2010': 7.403579405167859,\n",
       "   'coherence_mimno_2011': -1.4655146068866647}),\n",
       " (30,\n",
       "  {'model': <lda.lda.LDA at 0x7fd3fe306898>,\n",
       "   'cao_juan_2009': 0.10850811387586812,\n",
       "   'arun_2010': 4.216179012713291,\n",
       "   'coherence_mimno_2011': -1.6427312298716041}),\n",
       " (40,\n",
       "  {'model': <lda.lda.LDA at 0x7fd3fe3069b0>,\n",
       "   'cao_juan_2009': 0.1102660561003882,\n",
       "   'arun_2010': 3.7261104251741655,\n",
       "   'coherence_mimno_2011': -1.683373430872738})]"
      ]
     },
     "execution_count": 17,
     "metadata": {},
     "output_type": "execute_result"
    }
   ],
   "source": [
    "eval_results_by_topics = results_by_parameter(eval_results, 'n_topics')\n",
    "eval_results_by_topics[:3]  # again only the first three models"
   ]
  },
  {
   "cell_type": "markdown",
   "metadata": {},
   "source": [
    "We can now see the results for each metric across the specified range of number of topics using [plot_eval_results()](api.rst#tmtoolkit.topicmod.visualize.plot_eval_results):"
   ]
  },
  {
   "cell_type": "code",
   "execution_count": 18,
   "metadata": {},
   "outputs": [
    {
     "data": {
      "image/png": "[encoded data removed]",
      "text/plain": [
       "<Figure size 576x432 with 3 Axes>"
      ]
     },
     "metadata": {
      "needs_background": "light"
     },
     "output_type": "display_data"
    }
   ],
   "source": [
    "from tmtoolkit.topicmod.visualize import plot_eval_results\n",
    "\n",
    "plot_eval_results(eval_results_by_topics);"
   ]
  },
  {
   "cell_type": "markdown",
   "metadata": {},
   "source": [
    "These results suggest to set the number of topics, `n_topics`, to 40 and alpha to `0.025`. We don't have to generate a model with these hyperparameters again, because it's already in the evaluation results (thanks to `return_models=True`). We extract the model from there in order to use it in the rest of the chapter."
   ]
  },
  {
   "cell_type": "code",
   "execution_count": 19,
   "metadata": {},
   "outputs": [
    {
     "data": {
      "text/plain": [
       "(40, 0.025, 0.1)"
      ]
     },
     "execution_count": 19,
     "metadata": {},
     "output_type": "execute_result"
    }
   ],
   "source": [
    "best_tm = [m for k, m in eval_results_by_topics if k == 40][0]['model']\n",
    "best_tm.n_topics, best_tm.alpha, best_tm.eta  # just to make sure"
   ]
  },
  {
   "cell_type": "markdown",
   "metadata": {},
   "source": [
    "## Common statistics for topic models\n",
    "\n",
    "The [topicmod.model_stats](api.rst#module-tmtoolkit.topicmod.model_stats) module mostly contains functions that compute statistics from the document-topic and topic-word distribution of a topic model and also some helper functions for working with such distributions. We'll start with an important helper function, [generate_topic_labels_from_top_words()]((api.rst#tmtoolkit.topicmod.model_stats.generate_topic_labels_from_top_words))."
   ]
  },
  {
   "cell_type": "markdown",
   "metadata": {},
   "source": [
    "In topic modeling, topics are numbered because they're *abstract* – they're simply a probability distribution across all words in the vocabulary. Still, it's useful to give them labels for better identification. The function [generate_topic_labels_from_top_words()](api.rst#tmtoolkit.topicmod.model_stats.generate_topic_labels_from_top_words) is very useful for that, as it finds labels according to the most \"relevant\" words in each topic. We'll later see how we can identify the most relevant words per topic using a special relevancy statistic. Note that you can adjust the weight of the relevancy measure for the ranking by using the parameter `lambda_` which is in range $[0, 1]$.\n",
    "\n",
    "The function requires at least the topic-word and document-topic distributions from the model, the document lengths and the vocabulary. It then finds the minimum number of relevant words that uniquely label each topic. You can also use a fixed number for that minimum number with the parameter `n_words`."
   ]
  },
  {
   "cell_type": "code",
   "execution_count": 20,
   "metadata": {},
   "outputs": [
    {
     "data": {
      "text/plain": [
       "array(['1_club_line', '2_germany_german', '3_rule_circumstance',\n",
       "       '4_parent_child', '5_report_committee'], dtype='<U28')"
      ]
     },
     "execution_count": 20,
     "metadata": {},
     "output_type": "execute_result"
    }
   ],
   "source": [
    "from tmtoolkit.bow.bow_stats import doc_lengths\n",
    "from tmtoolkit.topicmod.model_stats import generate_topic_labels_from_top_words\n",
    "\n",
    "doc_lengths_bg = doc_lengths(dtm_bg)\n",
    "topic_labels = generate_topic_labels_from_top_words(\n",
    "    best_tm.topic_word_,\n",
    "    best_tm.doc_topic_,\n",
    "    doc_lengths_bg,\n",
    "    vocab_bg,\n",
    "    lambda_=0.6\n",
    ")\n",
    "\n",
    "topic_labels[:5]   # showing only the first 5 topics here"
   ]
  },
  {
   "cell_type": "markdown",
   "metadata": {},
   "source": [
    "As we can see, two words are necessary to label each topic uniquely. By default, each label is prefixed with a number. You can change that with the parameter `labels_format`.\n",
    "\n",
    "Let's have a look at the top words for a specific topic. We can use [ldamodel_top_topic_words()](api.rst#tmtoolkit.topicmod.model_io.ldamodel_top_topic_words) for that from the module [topicmod.model_io](api.rst#module-tmtoolkit.topicmod.model_io), which we will have a closer look at later:"
   ]
  },
  {
   "cell_type": "code",
   "execution_count": 21,
   "metadata": {},
   "outputs": [
    {
     "data": {
      "text/html": [
       "<div>\n",
       "<style scoped>\n",
       "    .dataframe tbody tr th:only-of-type {\n",
       "        vertical-align: middle;\n",
       "    }\n",
       "\n",
       "    .dataframe tbody tr th {\n",
       "        vertical-align: top;\n",
       "    }\n",
       "\n",
       "    .dataframe thead th {\n",
       "        text-align: right;\n",
       "    }\n",
       "</style>\n",
       "<table border=\"1\" class=\"dataframe\">\n",
       "  <thead>\n",
       "    <tr style=\"text-align: right;\">\n",
       "      <th></th>\n",
       "      <th>rank_1</th>\n",
       "      <th>rank_2</th>\n",
       "      <th>rank_3</th>\n",
       "      <th>rank_4</th>\n",
       "      <th>rank_5</th>\n",
       "      <th>rank_6</th>\n",
       "      <th>rank_7</th>\n",
       "      <th>rank_8</th>\n",
       "      <th>rank_9</th>\n",
       "      <th>rank_10</th>\n",
       "    </tr>\n",
       "    <tr>\n",
       "      <th>topic</th>\n",
       "      <th></th>\n",
       "      <th></th>\n",
       "      <th></th>\n",
       "      <th></th>\n",
       "      <th></th>\n",
       "      <th></th>\n",
       "      <th></th>\n",
       "      <th></th>\n",
       "      <th></th>\n",
       "      <th></th>\n",
       "    </tr>\n",
       "  </thead>\n",
       "  <tbody>\n",
       "    <tr>\n",
       "      <th>8_intelligence_investigation</th>\n",
       "      <td>election (0.04789)</td>\n",
       "      <td>investigation (0.04509)</td>\n",
       "      <td>intelligence (0.04229)</td>\n",
       "      <td>committee (0.03948)</td>\n",
       "      <td>presidential (0.02828)</td>\n",
       "      <td>public (0.02828)</td>\n",
       "      <td>today (0.01708)</td>\n",
       "      <td>go (0.01708)</td>\n",
       "      <td>put (0.01708)</td>\n",
       "      <td>campaign (0.01708)</td>\n",
       "    </tr>\n",
       "  </tbody>\n",
       "</table>\n",
       "</div>"
      ],
      "text/plain": [
       "                                          rank_1                   rank_2                  rank_3               rank_4  \\\n",
       "topic                                                                                                                    \n",
       "8_intelligence_investigation  election (0.04789)  investigation (0.04509)  intelligence (0.04229)  committee (0.03948)   \n",
       "\n",
       "                                              rank_5            rank_6           rank_7        rank_8         rank_9             rank_10  \n",
       "topic                                                                                                                                     \n",
       "8_intelligence_investigation  presidential (0.02828)  public (0.02828)  today (0.01708)  go (0.01708)  put (0.01708)  campaign (0.01708)  "
      ]
     },
     "execution_count": 21,
     "metadata": {},
     "output_type": "execute_result"
    }
   ],
   "source": [
    "from tmtoolkit.topicmod.model_io import ldamodel_top_topic_words\n",
    "\n",
    "top_topic_word = ldamodel_top_topic_words(best_tm.topic_word_,\n",
    "                                          vocab_bg,\n",
    "                                          row_labels=topic_labels)\n",
    "top_topic_word[top_topic_word.index == '8_intelligence_investigation']"
   ]
  },
  {
   "cell_type": "markdown",
   "metadata": {},
   "source": [
    "We'll now focus on the marginal topic and word distributions. Let's get the marginal topic distribution first by using [marginal_topic_distrib()](api.rst#tmtoolkit.topicmod.model_stats.marginal_topic_distrib):"
   ]
  },
  {
   "cell_type": "code",
   "execution_count": 22,
   "metadata": {
    "scrolled": true
   },
   "outputs": [
    {
     "data": {
      "text/plain": [
       "array([0.01915, 0.02381, 0.00955, 0.02086, 0.02065, 0.0191 , 0.04533,\n",
       "       0.01579, 0.01612, 0.02299, 0.01582, 0.0143 , 0.02747, 0.03418,\n",
       "       0.03532, 0.0213 , 0.04032, 0.13373, 0.02681, 0.01679, 0.01693,\n",
       "       0.02254, 0.01597, 0.01937, 0.02505, 0.02165, 0.03339, 0.02191,\n",
       "       0.01859, 0.02687, 0.03016, 0.0117 , 0.01347, 0.02801, 0.02691,\n",
       "       0.02085, 0.01505, 0.0257 , 0.01226, 0.01426])"
      ]
     },
     "execution_count": 22,
     "metadata": {},
     "output_type": "execute_result"
    }
   ],
   "source": [
    "from tmtoolkit.topicmod.model_stats import marginal_topic_distrib\n",
    "\n",
    "marg_topic = marginal_topic_distrib(best_tm.doc_topic_, doc_lengths_bg)\n",
    "marg_topic"
   ]
  },
  {
   "cell_type": "markdown",
   "metadata": {},
   "source": [
    "The marginal topic distribution can be interpreted as the \"importance\" of each topic for the whole corpus. Let's get the sorted indices into `topic_labels` with `np.argsort()` and get the top five topics:"
   ]
  },
  {
   "cell_type": "code",
   "execution_count": 23,
   "metadata": {},
   "outputs": [
    {
     "data": {
      "text/plain": [
       "array(['18_one_year', '7_america_american', '17_trump_white',\n",
       "       '15_party_election', '14_term_minister'], dtype='<U28')"
      ]
     },
     "execution_count": 23,
     "metadata": {},
     "output_type": "execute_result"
    }
   ],
   "source": [
    "# np.argsort() gives ascending order, hence reverse via [::-1]\n",
    "topic_labels[np.argsort(marg_topic)[::-1][:5]]"
   ]
  },
  {
   "cell_type": "markdown",
   "metadata": {},
   "source": [
    "Likewise, we can get the marginal word distribution with [marginal_word_distrib()](api.rst#tmtoolkit.topicmod.model_stats.marginal_word_distrib) from the model's topic-word distribution and the marginal topic distribution. We'll use this to list the most probable words for the corpus. As expected, these are mostly quite common words:"
   ]
  },
  {
   "cell_type": "code",
   "execution_count": 24,
   "metadata": {},
   "outputs": [
    {
     "data": {
      "text/plain": [
       "array(['people', 'year', 'one', 'make', 'new', 'country', 'us', 'time',\n",
       "       'trump', 'report'], dtype='<U14')"
      ]
     },
     "execution_count": 24,
     "metadata": {},
     "output_type": "execute_result"
    }
   ],
   "source": [
    "from tmtoolkit.topicmod.model_stats import marginal_word_distrib\n",
    "\n",
    "marg_word = marginal_word_distrib(best_tm.topic_word_, marg_topic)\n",
    "vocab_bg[np.argsort(marg_word)[::-1][:10]]"
   ]
  },
  {
   "cell_type": "code",
   "execution_count": null,
   "metadata": {},
   "outputs": [],
   "source": []
  }
 ],
 "metadata": {
  "kernelspec": {
   "display_name": "Python 3",
   "language": "python",
   "name": "python3"
  },
  "language_info": {
   "codemirror_mode": {
    "name": "ipython",
    "version": 3
   },
   "file_extension": ".py",
   "mimetype": "text/x-python",
   "name": "python",
   "nbconvert_exporter": "python",
   "pygments_lexer": "ipython3",
   "version": "3.6.7"
  }
 },
 "nbformat": 4,
 "nbformat_minor": 2
}
